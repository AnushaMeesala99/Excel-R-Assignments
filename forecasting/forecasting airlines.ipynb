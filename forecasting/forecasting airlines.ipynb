{
 "cells": [
  {
   "cell_type": "code",
   "execution_count": 1,
   "id": "a9be163c",
   "metadata": {
    "ExecuteTime": {
     "end_time": "2021-10-05T12:43:19.007078Z",
     "start_time": "2021-10-05T12:43:16.043183Z"
    }
   },
   "outputs": [],
   "source": [
    "import pandas as pd\n",
    "import numpy as np\n",
    "import matplotlib.pyplot as plt \n",
    "from statsmodels.tsa.seasonal import seasonal_decompose\n",
    "from statsmodels.tsa.holtwinters import SimpleExpSmoothing\n",
    "from statsmodels.tsa.holtwinters import Holt\n",
    "from statsmodels.tsa.holtwinters import ExponentialSmoothing\n",
    "import statsmodels.graphics.tsaplots as tsa_plots\n",
    "import statsmodels.tsa.statespace as tm_models"
   ]
  },
  {
   "cell_type": "code",
   "execution_count": 2,
   "id": "6780db34",
   "metadata": {
    "ExecuteTime": {
     "end_time": "2021-10-05T12:43:21.394268Z",
     "start_time": "2021-10-05T12:43:20.206626Z"
    }
   },
   "outputs": [
    {
     "data": {
      "text/html": [
       "<div>\n",
       "<style scoped>\n",
       "    .dataframe tbody tr th:only-of-type {\n",
       "        vertical-align: middle;\n",
       "    }\n",
       "\n",
       "    .dataframe tbody tr th {\n",
       "        vertical-align: top;\n",
       "    }\n",
       "\n",
       "    .dataframe thead th {\n",
       "        text-align: right;\n",
       "    }\n",
       "</style>\n",
       "<table border=\"1\" class=\"dataframe\">\n",
       "  <thead>\n",
       "    <tr style=\"text-align: right;\">\n",
       "      <th></th>\n",
       "      <th>Month</th>\n",
       "      <th>Passengers</th>\n",
       "    </tr>\n",
       "  </thead>\n",
       "  <tbody>\n",
       "    <tr>\n",
       "      <th>0</th>\n",
       "      <td>1995-01-01</td>\n",
       "      <td>112</td>\n",
       "    </tr>\n",
       "    <tr>\n",
       "      <th>1</th>\n",
       "      <td>1995-02-01</td>\n",
       "      <td>118</td>\n",
       "    </tr>\n",
       "    <tr>\n",
       "      <th>2</th>\n",
       "      <td>1995-03-01</td>\n",
       "      <td>132</td>\n",
       "    </tr>\n",
       "    <tr>\n",
       "      <th>3</th>\n",
       "      <td>1995-04-01</td>\n",
       "      <td>129</td>\n",
       "    </tr>\n",
       "    <tr>\n",
       "      <th>4</th>\n",
       "      <td>1995-05-01</td>\n",
       "      <td>121</td>\n",
       "    </tr>\n",
       "    <tr>\n",
       "      <th>...</th>\n",
       "      <td>...</td>\n",
       "      <td>...</td>\n",
       "    </tr>\n",
       "    <tr>\n",
       "      <th>91</th>\n",
       "      <td>2002-08-01</td>\n",
       "      <td>405</td>\n",
       "    </tr>\n",
       "    <tr>\n",
       "      <th>92</th>\n",
       "      <td>2002-09-01</td>\n",
       "      <td>355</td>\n",
       "    </tr>\n",
       "    <tr>\n",
       "      <th>93</th>\n",
       "      <td>2002-10-01</td>\n",
       "      <td>306</td>\n",
       "    </tr>\n",
       "    <tr>\n",
       "      <th>94</th>\n",
       "      <td>2002-11-01</td>\n",
       "      <td>271</td>\n",
       "    </tr>\n",
       "    <tr>\n",
       "      <th>95</th>\n",
       "      <td>2002-12-01</td>\n",
       "      <td>306</td>\n",
       "    </tr>\n",
       "  </tbody>\n",
       "</table>\n",
       "<p>96 rows × 2 columns</p>\n",
       "</div>"
      ],
      "text/plain": [
       "        Month  Passengers\n",
       "0  1995-01-01         112\n",
       "1  1995-02-01         118\n",
       "2  1995-03-01         132\n",
       "3  1995-04-01         129\n",
       "4  1995-05-01         121\n",
       "..        ...         ...\n",
       "91 2002-08-01         405\n",
       "92 2002-09-01         355\n",
       "93 2002-10-01         306\n",
       "94 2002-11-01         271\n",
       "95 2002-12-01         306\n",
       "\n",
       "[96 rows x 2 columns]"
      ]
     },
     "execution_count": 2,
     "metadata": {},
     "output_type": "execute_result"
    }
   ],
   "source": [
    "df = pd.read_excel(\"Airlines+Data.xlsx\")\n",
    "df "
   ]
  },
  {
   "cell_type": "code",
   "execution_count": 4,
   "id": "5ee26719",
   "metadata": {
    "ExecuteTime": {
     "end_time": "2021-10-05T12:43:27.196937Z",
     "start_time": "2021-10-05T12:43:27.172937Z"
    }
   },
   "outputs": [
    {
     "data": {
      "text/html": [
       "<div>\n",
       "<style scoped>\n",
       "    .dataframe tbody tr th:only-of-type {\n",
       "        vertical-align: middle;\n",
       "    }\n",
       "\n",
       "    .dataframe tbody tr th {\n",
       "        vertical-align: top;\n",
       "    }\n",
       "\n",
       "    .dataframe thead th {\n",
       "        text-align: right;\n",
       "    }\n",
       "</style>\n",
       "<table border=\"1\" class=\"dataframe\">\n",
       "  <thead>\n",
       "    <tr style=\"text-align: right;\">\n",
       "      <th></th>\n",
       "      <th>Month</th>\n",
       "      <th>Passengers</th>\n",
       "    </tr>\n",
       "  </thead>\n",
       "  <tbody>\n",
       "    <tr>\n",
       "      <th>0</th>\n",
       "      <td>1995-01-01</td>\n",
       "      <td>112</td>\n",
       "    </tr>\n",
       "    <tr>\n",
       "      <th>1</th>\n",
       "      <td>1995-02-01</td>\n",
       "      <td>118</td>\n",
       "    </tr>\n",
       "    <tr>\n",
       "      <th>2</th>\n",
       "      <td>1995-03-01</td>\n",
       "      <td>132</td>\n",
       "    </tr>\n",
       "    <tr>\n",
       "      <th>3</th>\n",
       "      <td>1995-04-01</td>\n",
       "      <td>129</td>\n",
       "    </tr>\n",
       "    <tr>\n",
       "      <th>4</th>\n",
       "      <td>1995-05-01</td>\n",
       "      <td>121</td>\n",
       "    </tr>\n",
       "  </tbody>\n",
       "</table>\n",
       "</div>"
      ],
      "text/plain": [
       "       Month  Passengers\n",
       "0 1995-01-01         112\n",
       "1 1995-02-01         118\n",
       "2 1995-03-01         132\n",
       "3 1995-04-01         129\n",
       "4 1995-05-01         121"
      ]
     },
     "execution_count": 4,
     "metadata": {},
     "output_type": "execute_result"
    }
   ],
   "source": [
    "df.head()"
   ]
  },
  {
   "cell_type": "code",
   "execution_count": 5,
   "id": "a8f53237",
   "metadata": {
    "ExecuteTime": {
     "end_time": "2021-10-05T12:43:30.089190Z",
     "start_time": "2021-10-05T12:43:30.073191Z"
    }
   },
   "outputs": [
    {
     "data": {
      "text/plain": [
       "Month         0\n",
       "Passengers    0\n",
       "dtype: int64"
      ]
     },
     "execution_count": 5,
     "metadata": {},
     "output_type": "execute_result"
    }
   ],
   "source": [
    "df.isnull().sum()"
   ]
  },
  {
   "cell_type": "code",
   "execution_count": 7,
   "id": "946a8164",
   "metadata": {
    "ExecuteTime": {
     "end_time": "2021-10-05T12:43:43.197594Z",
     "start_time": "2021-10-05T12:43:43.165601Z"
    }
   },
   "outputs": [
    {
     "data": {
      "text/html": [
       "<div>\n",
       "<style scoped>\n",
       "    .dataframe tbody tr th:only-of-type {\n",
       "        vertical-align: middle;\n",
       "    }\n",
       "\n",
       "    .dataframe tbody tr th {\n",
       "        vertical-align: top;\n",
       "    }\n",
       "\n",
       "    .dataframe thead th {\n",
       "        text-align: right;\n",
       "    }\n",
       "</style>\n",
       "<table border=\"1\" class=\"dataframe\">\n",
       "  <thead>\n",
       "    <tr style=\"text-align: right;\">\n",
       "      <th></th>\n",
       "      <th>Passengers</th>\n",
       "    </tr>\n",
       "    <tr>\n",
       "      <th>Month</th>\n",
       "      <th></th>\n",
       "    </tr>\n",
       "  </thead>\n",
       "  <tbody>\n",
       "    <tr>\n",
       "      <th>1995-01-01</th>\n",
       "      <td>112</td>\n",
       "    </tr>\n",
       "    <tr>\n",
       "      <th>1995-02-01</th>\n",
       "      <td>118</td>\n",
       "    </tr>\n",
       "    <tr>\n",
       "      <th>1995-03-01</th>\n",
       "      <td>132</td>\n",
       "    </tr>\n",
       "    <tr>\n",
       "      <th>1995-04-01</th>\n",
       "      <td>129</td>\n",
       "    </tr>\n",
       "    <tr>\n",
       "      <th>1995-05-01</th>\n",
       "      <td>121</td>\n",
       "    </tr>\n",
       "    <tr>\n",
       "      <th>...</th>\n",
       "      <td>...</td>\n",
       "    </tr>\n",
       "    <tr>\n",
       "      <th>2002-08-01</th>\n",
       "      <td>405</td>\n",
       "    </tr>\n",
       "    <tr>\n",
       "      <th>2002-09-01</th>\n",
       "      <td>355</td>\n",
       "    </tr>\n",
       "    <tr>\n",
       "      <th>2002-10-01</th>\n",
       "      <td>306</td>\n",
       "    </tr>\n",
       "    <tr>\n",
       "      <th>2002-11-01</th>\n",
       "      <td>271</td>\n",
       "    </tr>\n",
       "    <tr>\n",
       "      <th>2002-12-01</th>\n",
       "      <td>306</td>\n",
       "    </tr>\n",
       "  </tbody>\n",
       "</table>\n",
       "<p>96 rows × 1 columns</p>\n",
       "</div>"
      ],
      "text/plain": [
       "            Passengers\n",
       "Month                 \n",
       "1995-01-01         112\n",
       "1995-02-01         118\n",
       "1995-03-01         132\n",
       "1995-04-01         129\n",
       "1995-05-01         121\n",
       "...                ...\n",
       "2002-08-01         405\n",
       "2002-09-01         355\n",
       "2002-10-01         306\n",
       "2002-11-01         271\n",
       "2002-12-01         306\n",
       "\n",
       "[96 rows x 1 columns]"
      ]
     },
     "execution_count": 7,
     "metadata": {},
     "output_type": "execute_result"
    }
   ],
   "source": [
    "df1 = df.set_index('Month')\n",
    "df1 "
   ]
  },
  {
   "cell_type": "code",
   "execution_count": 8,
   "id": "124661d2",
   "metadata": {
    "ExecuteTime": {
     "end_time": "2021-10-05T12:43:50.092590Z",
     "start_time": "2021-10-05T12:43:49.325582Z"
    }
   },
   "outputs": [
    {
     "data": {
      "image/png": "[encoded data removed]",
      "text/plain": [
       "<Figure size 1080x432 with 1 Axes>"
      ]
     },
     "metadata": {
      "needs_background": "light"
     },
     "output_type": "display_data"
    }
   ],
   "source": [
    "df1['Passengers'].plot(figsize=(15, 6))\n",
    "plt.show()"
   ]
  },
  {
   "cell_type": "code",
   "execution_count": 9,
   "id": "9ac9665d",
   "metadata": {
    "ExecuteTime": {
     "end_time": "2021-10-05T12:43:53.388795Z",
     "start_time": "2021-10-05T12:43:52.282732Z"
    }
   },
   "outputs": [
    {
     "data": {
      "image/png": "[encoded data removed]",
      "text/plain": [
       "<Figure size 432x288 with 4 Axes>"
      ]
     },
     "metadata": {
      "needs_background": "light"
     },
     "output_type": "display_data"
    }
   ],
   "source": [
    "\n",
    "from statsmodels.tsa.seasonal import seasonal_decompose\n",
    "ts_add = seasonal_decompose(df1['Passengers'],model=\"additive\")\n",
    "fig = ts_add.plot()\n",
    "plt.show()"
   ]
  },
  {
   "cell_type": "code",
   "execution_count": 10,
   "id": "598864e6",
   "metadata": {
    "ExecuteTime": {
     "end_time": "2021-10-05T12:43:55.841053Z",
     "start_time": "2021-10-05T12:43:55.284328Z"
    }
   },
   "outputs": [
    {
     "data": {
      "image/png": "[encoded data removed]",
      "text/plain": [
       "<Figure size 432x288 with 1 Axes>"
      ]
     },
     "execution_count": 10,
     "metadata": {},
     "output_type": "execute_result"
    },
    {
     "data": {
      "image/png": "[encoded data removed]",
      "text/plain": [
       "<Figure size 432x288 with 1 Axes>"
      ]
     },
     "metadata": {
      "needs_background": "light"
     },
     "output_type": "display_data"
    }
   ],
   "source": [
    "tsa_plots.plot_acf(df1['Passengers'])\n"
   ]
  },
  {
   "cell_type": "code",
   "execution_count": 9,
   "id": "9bc9f65e",
   "metadata": {
    "ExecuteTime": {
     "end_time": "2021-10-05T12:37:48.271917Z",
     "start_time": "2021-10-05T12:37:48.247916Z"
    }
   },
   "outputs": [],
   "source": [
    "# Building Time series forecasting with ARIMA\n"
   ]
  },
  {
   "cell_type": "code",
   "execution_count": 12,
   "id": "d90a4be7",
   "metadata": {
    "ExecuteTime": {
     "end_time": "2021-10-05T12:44:07.720753Z",
     "start_time": "2021-10-05T12:44:07.704737Z"
    }
   },
   "outputs": [],
   "source": [
    "X = df1['Passengers'].values"
   ]
  },
  {
   "cell_type": "code",
   "execution_count": 13,
   "id": "c4a18ce3",
   "metadata": {
    "ExecuteTime": {
     "end_time": "2021-10-05T12:44:10.108865Z",
     "start_time": "2021-10-05T12:44:10.100864Z"
    }
   },
   "outputs": [],
   "source": [
    "size = int(len(X) * 0.66)"
   ]
  },
  {
   "cell_type": "code",
   "execution_count": 14,
   "id": "f0b242f3",
   "metadata": {
    "ExecuteTime": {
     "end_time": "2021-10-05T12:44:12.688320Z",
     "start_time": "2021-10-05T12:44:12.680318Z"
    }
   },
   "outputs": [],
   "source": [
    "train, test = X[0:size], X[size:len(X)]"
   ]
  },
  {
   "cell_type": "code",
   "execution_count": 15,
   "id": "52123412",
   "metadata": {
    "ExecuteTime": {
     "end_time": "2021-10-05T12:44:15.856907Z",
     "start_time": "2021-10-05T12:44:15.832889Z"
    }
   },
   "outputs": [
    {
     "name": "stderr",
     "output_type": "stream",
     "text": [
      "C:\\Users\\dell\\anaconda3\\lib\\site-packages\\statsmodels\\tsa\\arima_model.py:472: FutureWarning: \n",
      "statsmodels.tsa.arima_model.ARMA and statsmodels.tsa.arima_model.ARIMA have\n",
      "been deprecated in favor of statsmodels.tsa.arima.model.ARIMA (note the .\n",
      "between arima and model) and\n",
      "statsmodels.tsa.SARIMAX. These will be removed after the 0.12 release.\n",
      "\n",
      "statsmodels.tsa.arima.model.ARIMA makes use of the statespace framework and\n",
      "is both well tested and maintained.\n",
      "\n",
      "To silence this warning and continue using ARMA and ARIMA until they are\n",
      "removed, use:\n",
      "\n",
      "import warnings\n",
      "warnings.filterwarnings('ignore', 'statsmodels.tsa.arima_model.ARMA',\n",
      "                        FutureWarning)\n",
      "warnings.filterwarnings('ignore', 'statsmodels.tsa.arima_model.ARIMA',\n",
      "                        FutureWarning)\n",
      "\n",
      "  warnings.warn(ARIMA_DEPRECATION_WARN, FutureWarning)\n"
     ]
    }
   ],
   "source": [
    "from statsmodels.tsa.arima_model import ARIMA\n",
    "\n",
    "model = ARIMA(train, order=(5,1,0))"
   ]
  },
  {
   "cell_type": "code",
   "execution_count": 16,
   "id": "b1514013",
   "metadata": {
    "ExecuteTime": {
     "end_time": "2021-10-05T12:44:19.433367Z",
     "start_time": "2021-10-05T12:44:18.956289Z"
    }
   },
   "outputs": [
    {
     "name": "stderr",
     "output_type": "stream",
     "text": [
      "C:\\Users\\dell\\anaconda3\\lib\\site-packages\\statsmodels\\tsa\\arima_model.py:472: FutureWarning: \n",
      "statsmodels.tsa.arima_model.ARMA and statsmodels.tsa.arima_model.ARIMA have\n",
      "been deprecated in favor of statsmodels.tsa.arima.model.ARIMA (note the .\n",
      "between arima and model) and\n",
      "statsmodels.tsa.SARIMAX. These will be removed after the 0.12 release.\n",
      "\n",
      "statsmodels.tsa.arima.model.ARIMA makes use of the statespace framework and\n",
      "is both well tested and maintained.\n",
      "\n",
      "To silence this warning and continue using ARMA and ARIMA until they are\n",
      "removed, use:\n",
      "\n",
      "import warnings\n",
      "warnings.filterwarnings('ignore', 'statsmodels.tsa.arima_model.ARMA',\n",
      "                        FutureWarning)\n",
      "warnings.filterwarnings('ignore', 'statsmodels.tsa.arima_model.ARIMA',\n",
      "                        FutureWarning)\n",
      "\n",
      "  warnings.warn(ARIMA_DEPRECATION_WARN, FutureWarning)\n"
     ]
    }
   ],
   "source": [
    "model_fit = model.fit(disp=0)"
   ]
  },
  {
   "cell_type": "code",
   "execution_count": 17,
   "id": "ed487bb7",
   "metadata": {
    "ExecuteTime": {
     "end_time": "2021-10-05T12:44:27.195555Z",
     "start_time": "2021-10-05T12:44:27.091560Z"
    }
   },
   "outputs": [
    {
     "name": "stdout",
     "output_type": "stream",
     "text": [
      "                             ARIMA Model Results                              \n",
      "==============================================================================\n",
      "Dep. Variable:                    D.y   No. Observations:                   62\n",
      "Model:                 ARIMA(5, 1, 0)   Log Likelihood                -262.909\n",
      "Method:                       css-mle   S.D. of innovations             16.748\n",
      "Date:                Tue, 05 Oct 2021   AIC                            539.817\n",
      "Time:                        18:14:27   BIC                            554.707\n",
      "Sample:                             1   HQIC                           545.663\n",
      "                                                                              \n",
      "==============================================================================\n",
      "                 coef    std err          z      P>|z|      [0.025      0.975]\n",
      "------------------------------------------------------------------------------\n",
      "const          1.7497      1.477      1.185      0.236      -1.145       4.644\n",
      "ar.L1.D.y      0.0905      0.134      0.677      0.498      -0.171       0.352\n",
      "ar.L2.D.y     -0.2096      0.135     -1.549      0.121      -0.475       0.056\n",
      "ar.L3.D.y     -0.0829      0.133     -0.623      0.533      -0.344       0.178\n",
      "ar.L4.D.y     -0.2598      0.133     -1.953      0.051      -0.521       0.001\n",
      "ar.L5.D.y     -0.0090      0.139     -0.065      0.948      -0.282       0.264\n",
      "                                    Roots                                    \n",
      "=============================================================================\n",
      "                  Real          Imaginary           Modulus         Frequency\n",
      "-----------------------------------------------------------------------------\n",
      "AR.1            0.8182           -1.0121j            1.3015           -0.1418\n",
      "AR.2            0.8182           +1.0121j            1.3015            0.1418\n",
      "AR.3           -0.9648           -1.1683j            1.5152           -0.3599\n",
      "AR.4           -0.9648           +1.1683j            1.5152            0.3599\n",
      "AR.5          -28.5045           -0.0000j           28.5045           -0.5000\n",
      "-----------------------------------------------------------------------------\n"
     ]
    }
   ],
   "source": [
    "print(model_fit.summary())"
   ]
  },
  {
   "cell_type": "code",
   "execution_count": 18,
   "id": "6378b30a",
   "metadata": {
    "ExecuteTime": {
     "end_time": "2021-10-05T12:44:34.813965Z",
     "start_time": "2021-10-05T12:44:34.797947Z"
    }
   },
   "outputs": [],
   "source": [
    "#This summarizes the coefficient values used as well as the skill of the fit on the on the in-sample observations"
   ]
  },
  {
   "cell_type": "code",
   "execution_count": 19,
   "id": "7249e5de",
   "metadata": {
    "ExecuteTime": {
     "end_time": "2021-10-05T12:44:37.961258Z",
     "start_time": "2021-10-05T12:44:36.949939Z"
    }
   },
   "outputs": [
    {
     "data": {
      "image/png": "[encoded data removed]",
      "text/plain": [
       "<Figure size 432x288 with 1 Axes>"
      ]
     },
     "metadata": {
      "needs_background": "light"
     },
     "output_type": "display_data"
    },
    {
     "data": {
      "image/png": "[encoded data removed]",
      "text/plain": [
       "<Figure size 432x288 with 1 Axes>"
      ]
     },
     "metadata": {
      "needs_background": "light"
     },
     "output_type": "display_data"
    },
    {
     "name": "stdout",
     "output_type": "stream",
     "text": [
      "               0\n",
      "count  62.000000\n",
      "mean    0.057356\n",
      "std    16.895802\n",
      "min   -34.303296\n",
      "25%   -12.610647\n",
      "50%    -1.589474\n",
      "75%    12.565602\n",
      "max    39.955362\n"
     ]
    }
   ],
   "source": [
    "import matplotlib\n",
    "import seaborn as sns\n",
    "import matplotlib.pyplot as plt\n",
    "from matplotlib import pyplot\n",
    "\n",
    "residuals = pd.DataFrame(model_fit.resid)\n",
    "residuals.plot()\n",
    "pyplot.show()\n",
    "residuals.plot(kind='kde')\n",
    "pyplot.show()\n",
    "print(residuals.describe())"
   ]
  },
  {
   "cell_type": "code",
   "execution_count": 20,
   "id": "05f6a26e",
   "metadata": {
    "ExecuteTime": {
     "end_time": "2021-10-05T12:44:46.588863Z",
     "start_time": "2021-10-05T12:44:46.564864Z"
    }
   },
   "outputs": [],
   "source": [
    "#Rolling Forecast ARIMA Model"
   ]
  },
  {
   "cell_type": "code",
   "execution_count": 21,
   "id": "4123a247",
   "metadata": {
    "ExecuteTime": {
     "end_time": "2021-10-05T12:44:48.153234Z",
     "start_time": "2021-10-05T12:44:48.145235Z"
    }
   },
   "outputs": [],
   "source": [
    "history = [x for x in train]"
   ]
  },
  {
   "cell_type": "code",
   "execution_count": 22,
   "id": "133cb644",
   "metadata": {
    "ExecuteTime": {
     "end_time": "2021-10-05T12:44:49.493943Z",
     "start_time": "2021-10-05T12:44:49.469943Z"
    }
   },
   "outputs": [],
   "source": [
    "predictions = list()"
   ]
  },
  {
   "cell_type": "code",
   "execution_count": 23,
   "id": "186294e6",
   "metadata": {
    "ExecuteTime": {
     "end_time": "2021-10-05T12:45:04.023906Z",
     "start_time": "2021-10-05T12:44:52.083511Z"
    }
   },
   "outputs": [
    {
     "name": "stderr",
     "output_type": "stream",
     "text": [
      "C:\\Users\\dell\\anaconda3\\lib\\site-packages\\statsmodels\\tsa\\arima_model.py:472: FutureWarning: \n",
      "statsmodels.tsa.arima_model.ARMA and statsmodels.tsa.arima_model.ARIMA have\n",
      "been deprecated in favor of statsmodels.tsa.arima.model.ARIMA (note the .\n",
      "between arima and model) and\n",
      "statsmodels.tsa.SARIMAX. These will be removed after the 0.12 release.\n",
      "\n",
      "statsmodels.tsa.arima.model.ARIMA makes use of the statespace framework and\n",
      "is both well tested and maintained.\n",
      "\n",
      "To silence this warning and continue using ARMA and ARIMA until they are\n",
      "removed, use:\n",
      "\n",
      "import warnings\n",
      "warnings.filterwarnings('ignore', 'statsmodels.tsa.arima_model.ARMA',\n",
      "                        FutureWarning)\n",
      "warnings.filterwarnings('ignore', 'statsmodels.tsa.arima_model.ARIMA',\n",
      "                        FutureWarning)\n",
      "\n",
      "  warnings.warn(ARIMA_DEPRECATION_WARN, FutureWarning)\n"
     ]
    },
    {
     "name": "stdout",
     "output_type": "stream",
     "text": [
      "predicted=239.755183, expected=227.000000\n",
      "predicted=220.737321, expected=234.000000\n",
      "predicted=237.815011, expected=264.000000\n",
      "predicted=252.750593, expected=302.000000\n",
      "predicted=306.715786, expected=293.000000\n",
      "predicted=285.374627, expected=259.000000\n",
      "predicted=250.264002, expected=229.000000\n",
      "predicted=227.093121, expected=203.000000\n",
      "predicted=211.011456, expected=229.000000\n",
      "predicted=253.260277, expected=242.000000\n",
      "predicted=252.490675, expected=233.000000\n",
      "predicted=234.042129, expected=267.000000\n",
      "predicted=268.773620, expected=269.000000\n",
      "predicted=261.782267, expected=270.000000\n",
      "predicted=271.798049, expected=315.000000\n",
      "predicted=314.422086, expected=364.000000\n",
      "predicted=368.637726, expected=347.000000\n",
      "predicted=334.957873, expected=312.000000\n",
      "predicted=301.161836, expected=274.000000\n",
      "predicted=265.936472, expected=237.000000\n",
      "predicted=244.037200, expected=278.000000\n",
      "predicted=312.961790, expected=284.000000\n",
      "predicted=291.748136, expected=277.000000\n",
      "predicted=284.551904, expected=317.000000\n",
      "predicted=316.501203, expected=313.000000\n",
      "predicted=303.218165, expected=318.000000\n",
      "predicted=324.834636, expected=374.000000\n",
      "predicted=373.140691, expected=413.000000\n",
      "predicted=415.007211, expected=405.000000\n",
      "predicted=397.508456, expected=355.000000\n",
      "predicted=332.087098, expected=306.000000\n",
      "predicted=299.452927, expected=271.000000\n",
      "predicted=279.908325, expected=306.000000\n"
     ]
    }
   ],
   "source": [
    "for t in range(len(test)):\n",
    "    model = ARIMA(history, order=(5,1,0))\n",
    "    model_fit = model.fit(disp=0)\n",
    "    output = model_fit.forecast()\n",
    "    th = output[0]\n",
    "    predictions.append(th)\n",
    "    obs = test[t]\n",
    "    history.append(obs)\n",
    "    print('predicted=%f, expected=%f' % (th, obs))"
   ]
  },
  {
   "cell_type": "code",
   "execution_count": 24,
   "id": "35a4d232",
   "metadata": {
    "ExecuteTime": {
     "end_time": "2021-10-05T12:45:07.979323Z",
     "start_time": "2021-10-05T12:45:06.262494Z"
    }
   },
   "outputs": [
    {
     "name": "stdout",
     "output_type": "stream",
     "text": [
      "Test MSE: 782.494\n"
     ]
    }
   ],
   "source": [
    "from sklearn.metrics import mean_squared_error\n",
    "error = mean_squared_error(test, predictions)\n",
    "print('Test MSE: %.3f' % error)"
   ]
  },
  {
   "cell_type": "code",
   "execution_count": 25,
   "id": "49469fb6",
   "metadata": {
    "ExecuteTime": {
     "end_time": "2021-10-05T12:45:09.919255Z",
     "start_time": "2021-10-05T12:45:09.674133Z"
    }
   },
   "outputs": [
    {
     "data": {
      "image/png": "[encoded data removed]",
      "text/plain": [
       "<Figure size 432x288 with 1 Axes>"
      ]
     },
     "metadata": {
      "needs_background": "light"
     },
     "output_type": "display_data"
    }
   ],
   "source": [
    "pyplot.plot(test)\n",
    "pyplot.plot(predictions, color='red')\n",
    "pyplot.show()"
   ]
  },
  {
   "cell_type": "code",
   "execution_count": 24,
   "id": "ab96b1b0",
   "metadata": {
    "ExecuteTime": {
     "end_time": "2021-10-05T12:38:06.691030Z",
     "start_time": "2021-10-05T12:38:06.675010Z"
    }
   },
   "outputs": [],
   "source": [
    "#A line plot is created with the expected values in blue compared to the rolling forecast predictions in red. \n",
    "#We can see the values show some trend and are in the correct scale"
   ]
  },
  {
   "cell_type": "code",
   "execution_count": 25,
   "id": "f570d126",
   "metadata": {
    "ExecuteTime": {
     "end_time": "2021-10-05T12:38:06.803001Z",
     "start_time": "2021-10-05T12:38:06.691030Z"
    }
   },
   "outputs": [],
   "source": [
    "#Comparing Multiple Models"
   ]
  },
  {
   "cell_type": "code",
   "execution_count": 26,
   "id": "0e2b53df",
   "metadata": {
    "ExecuteTime": {
     "end_time": "2021-10-05T12:45:25.972063Z",
     "start_time": "2021-10-05T12:45:25.956064Z"
    }
   },
   "outputs": [],
   "source": [
    "df2 = df.copy()"
   ]
  },
  {
   "cell_type": "code",
   "execution_count": 27,
   "id": "16f55411",
   "metadata": {
    "ExecuteTime": {
     "end_time": "2021-10-05T12:45:35.995532Z",
     "start_time": "2021-10-05T12:45:35.979508Z"
    }
   },
   "outputs": [],
   "source": [
    "df2 = pd.get_dummies(df2, columns = ['Month'])"
   ]
  },
  {
   "cell_type": "code",
   "execution_count": 28,
   "id": "efb99b1a",
   "metadata": {
    "ExecuteTime": {
     "end_time": "2021-10-05T12:45:39.921110Z",
     "start_time": "2021-10-05T12:45:39.873117Z"
    }
   },
   "outputs": [
    {
     "data": {
      "text/html": [
       "<div>\n",
       "<style scoped>\n",
       "    .dataframe tbody tr th:only-of-type {\n",
       "        vertical-align: middle;\n",
       "    }\n",
       "\n",
       "    .dataframe tbody tr th {\n",
       "        vertical-align: top;\n",
       "    }\n",
       "\n",
       "    .dataframe thead th {\n",
       "        text-align: right;\n",
       "    }\n",
       "</style>\n",
       "<table border=\"1\" class=\"dataframe\">\n",
       "  <thead>\n",
       "    <tr style=\"text-align: right;\">\n",
       "      <th></th>\n",
       "      <th>Passengers</th>\n",
       "      <th>Month_1995-01-01 00:00:00</th>\n",
       "      <th>Month_1995-02-01 00:00:00</th>\n",
       "      <th>Month_1995-03-01 00:00:00</th>\n",
       "      <th>Month_1995-04-01 00:00:00</th>\n",
       "      <th>Month_1995-05-01 00:00:00</th>\n",
       "      <th>Month_1995-06-01 00:00:00</th>\n",
       "      <th>Month_1995-07-01 00:00:00</th>\n",
       "      <th>Month_1995-08-01 00:00:00</th>\n",
       "      <th>Month_1995-09-01 00:00:00</th>\n",
       "      <th>...</th>\n",
       "      <th>Month_2002-03-01 00:00:00</th>\n",
       "      <th>Month_2002-04-01 00:00:00</th>\n",
       "      <th>Month_2002-05-01 00:00:00</th>\n",
       "      <th>Month_2002-06-01 00:00:00</th>\n",
       "      <th>Month_2002-07-01 00:00:00</th>\n",
       "      <th>Month_2002-08-01 00:00:00</th>\n",
       "      <th>Month_2002-09-01 00:00:00</th>\n",
       "      <th>Month_2002-10-01 00:00:00</th>\n",
       "      <th>Month_2002-11-01 00:00:00</th>\n",
       "      <th>Month_2002-12-01 00:00:00</th>\n",
       "    </tr>\n",
       "  </thead>\n",
       "  <tbody>\n",
       "    <tr>\n",
       "      <th>0</th>\n",
       "      <td>112</td>\n",
       "      <td>1</td>\n",
       "      <td>0</td>\n",
       "      <td>0</td>\n",
       "      <td>0</td>\n",
       "      <td>0</td>\n",
       "      <td>0</td>\n",
       "      <td>0</td>\n",
       "      <td>0</td>\n",
       "      <td>0</td>\n",
       "      <td>...</td>\n",
       "      <td>0</td>\n",
       "      <td>0</td>\n",
       "      <td>0</td>\n",
       "      <td>0</td>\n",
       "      <td>0</td>\n",
       "      <td>0</td>\n",
       "      <td>0</td>\n",
       "      <td>0</td>\n",
       "      <td>0</td>\n",
       "      <td>0</td>\n",
       "    </tr>\n",
       "    <tr>\n",
       "      <th>1</th>\n",
       "      <td>118</td>\n",
       "      <td>0</td>\n",
       "      <td>1</td>\n",
       "      <td>0</td>\n",
       "      <td>0</td>\n",
       "      <td>0</td>\n",
       "      <td>0</td>\n",
       "      <td>0</td>\n",
       "      <td>0</td>\n",
       "      <td>0</td>\n",
       "      <td>...</td>\n",
       "      <td>0</td>\n",
       "      <td>0</td>\n",
       "      <td>0</td>\n",
       "      <td>0</td>\n",
       "      <td>0</td>\n",
       "      <td>0</td>\n",
       "      <td>0</td>\n",
       "      <td>0</td>\n",
       "      <td>0</td>\n",
       "      <td>0</td>\n",
       "    </tr>\n",
       "    <tr>\n",
       "      <th>2</th>\n",
       "      <td>132</td>\n",
       "      <td>0</td>\n",
       "      <td>0</td>\n",
       "      <td>1</td>\n",
       "      <td>0</td>\n",
       "      <td>0</td>\n",
       "      <td>0</td>\n",
       "      <td>0</td>\n",
       "      <td>0</td>\n",
       "      <td>0</td>\n",
       "      <td>...</td>\n",
       "      <td>0</td>\n",
       "      <td>0</td>\n",
       "      <td>0</td>\n",
       "      <td>0</td>\n",
       "      <td>0</td>\n",
       "      <td>0</td>\n",
       "      <td>0</td>\n",
       "      <td>0</td>\n",
       "      <td>0</td>\n",
       "      <td>0</td>\n",
       "    </tr>\n",
       "    <tr>\n",
       "      <th>3</th>\n",
       "      <td>129</td>\n",
       "      <td>0</td>\n",
       "      <td>0</td>\n",
       "      <td>0</td>\n",
       "      <td>1</td>\n",
       "      <td>0</td>\n",
       "      <td>0</td>\n",
       "      <td>0</td>\n",
       "      <td>0</td>\n",
       "      <td>0</td>\n",
       "      <td>...</td>\n",
       "      <td>0</td>\n",
       "      <td>0</td>\n",
       "      <td>0</td>\n",
       "      <td>0</td>\n",
       "      <td>0</td>\n",
       "      <td>0</td>\n",
       "      <td>0</td>\n",
       "      <td>0</td>\n",
       "      <td>0</td>\n",
       "      <td>0</td>\n",
       "    </tr>\n",
       "    <tr>\n",
       "      <th>4</th>\n",
       "      <td>121</td>\n",
       "      <td>0</td>\n",
       "      <td>0</td>\n",
       "      <td>0</td>\n",
       "      <td>0</td>\n",
       "      <td>1</td>\n",
       "      <td>0</td>\n",
       "      <td>0</td>\n",
       "      <td>0</td>\n",
       "      <td>0</td>\n",
       "      <td>...</td>\n",
       "      <td>0</td>\n",
       "      <td>0</td>\n",
       "      <td>0</td>\n",
       "      <td>0</td>\n",
       "      <td>0</td>\n",
       "      <td>0</td>\n",
       "      <td>0</td>\n",
       "      <td>0</td>\n",
       "      <td>0</td>\n",
       "      <td>0</td>\n",
       "    </tr>\n",
       "  </tbody>\n",
       "</table>\n",
       "<p>5 rows × 97 columns</p>\n",
       "</div>"
      ],
      "text/plain": [
       "   Passengers  Month_1995-01-01 00:00:00  Month_1995-02-01 00:00:00  \\\n",
       "0         112                          1                          0   \n",
       "1         118                          0                          1   \n",
       "2         132                          0                          0   \n",
       "3         129                          0                          0   \n",
       "4         121                          0                          0   \n",
       "\n",
       "   Month_1995-03-01 00:00:00  Month_1995-04-01 00:00:00  \\\n",
       "0                          0                          0   \n",
       "1                          0                          0   \n",
       "2                          1                          0   \n",
       "3                          0                          1   \n",
       "4                          0                          0   \n",
       "\n",
       "   Month_1995-05-01 00:00:00  Month_1995-06-01 00:00:00  \\\n",
       "0                          0                          0   \n",
       "1                          0                          0   \n",
       "2                          0                          0   \n",
       "3                          0                          0   \n",
       "4                          1                          0   \n",
       "\n",
       "   Month_1995-07-01 00:00:00  Month_1995-08-01 00:00:00  \\\n",
       "0                          0                          0   \n",
       "1                          0                          0   \n",
       "2                          0                          0   \n",
       "3                          0                          0   \n",
       "4                          0                          0   \n",
       "\n",
       "   Month_1995-09-01 00:00:00  ...  Month_2002-03-01 00:00:00  \\\n",
       "0                          0  ...                          0   \n",
       "1                          0  ...                          0   \n",
       "2                          0  ...                          0   \n",
       "3                          0  ...                          0   \n",
       "4                          0  ...                          0   \n",
       "\n",
       "   Month_2002-04-01 00:00:00  Month_2002-05-01 00:00:00  \\\n",
       "0                          0                          0   \n",
       "1                          0                          0   \n",
       "2                          0                          0   \n",
       "3                          0                          0   \n",
       "4                          0                          0   \n",
       "\n",
       "   Month_2002-06-01 00:00:00  Month_2002-07-01 00:00:00  \\\n",
       "0                          0                          0   \n",
       "1                          0                          0   \n",
       "2                          0                          0   \n",
       "3                          0                          0   \n",
       "4                          0                          0   \n",
       "\n",
       "   Month_2002-08-01 00:00:00  Month_2002-09-01 00:00:00  \\\n",
       "0                          0                          0   \n",
       "1                          0                          0   \n",
       "2                          0                          0   \n",
       "3                          0                          0   \n",
       "4                          0                          0   \n",
       "\n",
       "   Month_2002-10-01 00:00:00  Month_2002-11-01 00:00:00  \\\n",
       "0                          0                          0   \n",
       "1                          0                          0   \n",
       "2                          0                          0   \n",
       "3                          0                          0   \n",
       "4                          0                          0   \n",
       "\n",
       "   Month_2002-12-01 00:00:00  \n",
       "0                          0  \n",
       "1                          0  \n",
       "2                          0  \n",
       "3                          0  \n",
       "4                          0  \n",
       "\n",
       "[5 rows x 97 columns]"
      ]
     },
     "execution_count": 28,
     "metadata": {},
     "output_type": "execute_result"
    }
   ],
   "source": [
    "df2.head()"
   ]
  },
  {
   "cell_type": "code",
   "execution_count": 30,
   "id": "d7670d79",
   "metadata": {
    "ExecuteTime": {
     "end_time": "2021-10-05T12:46:15.706991Z",
     "start_time": "2021-10-05T12:46:15.642975Z"
    }
   },
   "outputs": [
    {
     "data": {
      "text/html": [
       "<div>\n",
       "<style scoped>\n",
       "    .dataframe tbody tr th:only-of-type {\n",
       "        vertical-align: middle;\n",
       "    }\n",
       "\n",
       "    .dataframe tbody tr th {\n",
       "        vertical-align: top;\n",
       "    }\n",
       "\n",
       "    .dataframe thead th {\n",
       "        text-align: right;\n",
       "    }\n",
       "</style>\n",
       "<table border=\"1\" class=\"dataframe\">\n",
       "  <thead>\n",
       "    <tr style=\"text-align: right;\">\n",
       "      <th></th>\n",
       "      <th>Passengers</th>\n",
       "      <th>month_1</th>\n",
       "      <th>month_2</th>\n",
       "      <th>month_3</th>\n",
       "      <th>month_4</th>\n",
       "      <th>month_5</th>\n",
       "      <th>month_6</th>\n",
       "      <th>month_7</th>\n",
       "      <th>month_8</th>\n",
       "      <th>month_9</th>\n",
       "      <th>...</th>\n",
       "      <th>Month_2002-03-01 00:00:00</th>\n",
       "      <th>Month_2002-04-01 00:00:00</th>\n",
       "      <th>Month_2002-05-01 00:00:00</th>\n",
       "      <th>Month_2002-06-01 00:00:00</th>\n",
       "      <th>Month_2002-07-01 00:00:00</th>\n",
       "      <th>Month_2002-08-01 00:00:00</th>\n",
       "      <th>Month_2002-09-01 00:00:00</th>\n",
       "      <th>Month_2002-10-01 00:00:00</th>\n",
       "      <th>Month_2002-11-01 00:00:00</th>\n",
       "      <th>Month_2002-12-01 00:00:00</th>\n",
       "    </tr>\n",
       "  </thead>\n",
       "  <tbody>\n",
       "    <tr>\n",
       "      <th>0</th>\n",
       "      <td>112</td>\n",
       "      <td>1</td>\n",
       "      <td>0</td>\n",
       "      <td>0</td>\n",
       "      <td>0</td>\n",
       "      <td>0</td>\n",
       "      <td>0</td>\n",
       "      <td>0</td>\n",
       "      <td>0</td>\n",
       "      <td>0</td>\n",
       "      <td>...</td>\n",
       "      <td>0</td>\n",
       "      <td>0</td>\n",
       "      <td>0</td>\n",
       "      <td>0</td>\n",
       "      <td>0</td>\n",
       "      <td>0</td>\n",
       "      <td>0</td>\n",
       "      <td>0</td>\n",
       "      <td>0</td>\n",
       "      <td>0</td>\n",
       "    </tr>\n",
       "    <tr>\n",
       "      <th>1</th>\n",
       "      <td>118</td>\n",
       "      <td>0</td>\n",
       "      <td>1</td>\n",
       "      <td>0</td>\n",
       "      <td>0</td>\n",
       "      <td>0</td>\n",
       "      <td>0</td>\n",
       "      <td>0</td>\n",
       "      <td>0</td>\n",
       "      <td>0</td>\n",
       "      <td>...</td>\n",
       "      <td>0</td>\n",
       "      <td>0</td>\n",
       "      <td>0</td>\n",
       "      <td>0</td>\n",
       "      <td>0</td>\n",
       "      <td>0</td>\n",
       "      <td>0</td>\n",
       "      <td>0</td>\n",
       "      <td>0</td>\n",
       "      <td>0</td>\n",
       "    </tr>\n",
       "    <tr>\n",
       "      <th>2</th>\n",
       "      <td>132</td>\n",
       "      <td>0</td>\n",
       "      <td>0</td>\n",
       "      <td>1</td>\n",
       "      <td>0</td>\n",
       "      <td>0</td>\n",
       "      <td>0</td>\n",
       "      <td>0</td>\n",
       "      <td>0</td>\n",
       "      <td>0</td>\n",
       "      <td>...</td>\n",
       "      <td>0</td>\n",
       "      <td>0</td>\n",
       "      <td>0</td>\n",
       "      <td>0</td>\n",
       "      <td>0</td>\n",
       "      <td>0</td>\n",
       "      <td>0</td>\n",
       "      <td>0</td>\n",
       "      <td>0</td>\n",
       "      <td>0</td>\n",
       "    </tr>\n",
       "    <tr>\n",
       "      <th>3</th>\n",
       "      <td>129</td>\n",
       "      <td>0</td>\n",
       "      <td>0</td>\n",
       "      <td>0</td>\n",
       "      <td>1</td>\n",
       "      <td>0</td>\n",
       "      <td>0</td>\n",
       "      <td>0</td>\n",
       "      <td>0</td>\n",
       "      <td>0</td>\n",
       "      <td>...</td>\n",
       "      <td>0</td>\n",
       "      <td>0</td>\n",
       "      <td>0</td>\n",
       "      <td>0</td>\n",
       "      <td>0</td>\n",
       "      <td>0</td>\n",
       "      <td>0</td>\n",
       "      <td>0</td>\n",
       "      <td>0</td>\n",
       "      <td>0</td>\n",
       "    </tr>\n",
       "    <tr>\n",
       "      <th>4</th>\n",
       "      <td>121</td>\n",
       "      <td>0</td>\n",
       "      <td>0</td>\n",
       "      <td>0</td>\n",
       "      <td>0</td>\n",
       "      <td>1</td>\n",
       "      <td>0</td>\n",
       "      <td>0</td>\n",
       "      <td>0</td>\n",
       "      <td>0</td>\n",
       "      <td>...</td>\n",
       "      <td>0</td>\n",
       "      <td>0</td>\n",
       "      <td>0</td>\n",
       "      <td>0</td>\n",
       "      <td>0</td>\n",
       "      <td>0</td>\n",
       "      <td>0</td>\n",
       "      <td>0</td>\n",
       "      <td>0</td>\n",
       "      <td>0</td>\n",
       "    </tr>\n",
       "    <tr>\n",
       "      <th>...</th>\n",
       "      <td>...</td>\n",
       "      <td>...</td>\n",
       "      <td>...</td>\n",
       "      <td>...</td>\n",
       "      <td>...</td>\n",
       "      <td>...</td>\n",
       "      <td>...</td>\n",
       "      <td>...</td>\n",
       "      <td>...</td>\n",
       "      <td>...</td>\n",
       "      <td>...</td>\n",
       "      <td>...</td>\n",
       "      <td>...</td>\n",
       "      <td>...</td>\n",
       "      <td>...</td>\n",
       "      <td>...</td>\n",
       "      <td>...</td>\n",
       "      <td>...</td>\n",
       "      <td>...</td>\n",
       "      <td>...</td>\n",
       "      <td>...</td>\n",
       "    </tr>\n",
       "    <tr>\n",
       "      <th>91</th>\n",
       "      <td>405</td>\n",
       "      <td>0</td>\n",
       "      <td>0</td>\n",
       "      <td>0</td>\n",
       "      <td>0</td>\n",
       "      <td>0</td>\n",
       "      <td>0</td>\n",
       "      <td>0</td>\n",
       "      <td>0</td>\n",
       "      <td>0</td>\n",
       "      <td>...</td>\n",
       "      <td>0</td>\n",
       "      <td>0</td>\n",
       "      <td>0</td>\n",
       "      <td>0</td>\n",
       "      <td>0</td>\n",
       "      <td>1</td>\n",
       "      <td>0</td>\n",
       "      <td>0</td>\n",
       "      <td>0</td>\n",
       "      <td>0</td>\n",
       "    </tr>\n",
       "    <tr>\n",
       "      <th>92</th>\n",
       "      <td>355</td>\n",
       "      <td>0</td>\n",
       "      <td>0</td>\n",
       "      <td>0</td>\n",
       "      <td>0</td>\n",
       "      <td>0</td>\n",
       "      <td>0</td>\n",
       "      <td>0</td>\n",
       "      <td>0</td>\n",
       "      <td>0</td>\n",
       "      <td>...</td>\n",
       "      <td>0</td>\n",
       "      <td>0</td>\n",
       "      <td>0</td>\n",
       "      <td>0</td>\n",
       "      <td>0</td>\n",
       "      <td>0</td>\n",
       "      <td>1</td>\n",
       "      <td>0</td>\n",
       "      <td>0</td>\n",
       "      <td>0</td>\n",
       "    </tr>\n",
       "    <tr>\n",
       "      <th>93</th>\n",
       "      <td>306</td>\n",
       "      <td>0</td>\n",
       "      <td>0</td>\n",
       "      <td>0</td>\n",
       "      <td>0</td>\n",
       "      <td>0</td>\n",
       "      <td>0</td>\n",
       "      <td>0</td>\n",
       "      <td>0</td>\n",
       "      <td>0</td>\n",
       "      <td>...</td>\n",
       "      <td>0</td>\n",
       "      <td>0</td>\n",
       "      <td>0</td>\n",
       "      <td>0</td>\n",
       "      <td>0</td>\n",
       "      <td>0</td>\n",
       "      <td>0</td>\n",
       "      <td>1</td>\n",
       "      <td>0</td>\n",
       "      <td>0</td>\n",
       "    </tr>\n",
       "    <tr>\n",
       "      <th>94</th>\n",
       "      <td>271</td>\n",
       "      <td>0</td>\n",
       "      <td>0</td>\n",
       "      <td>0</td>\n",
       "      <td>0</td>\n",
       "      <td>0</td>\n",
       "      <td>0</td>\n",
       "      <td>0</td>\n",
       "      <td>0</td>\n",
       "      <td>0</td>\n",
       "      <td>...</td>\n",
       "      <td>0</td>\n",
       "      <td>0</td>\n",
       "      <td>0</td>\n",
       "      <td>0</td>\n",
       "      <td>0</td>\n",
       "      <td>0</td>\n",
       "      <td>0</td>\n",
       "      <td>0</td>\n",
       "      <td>1</td>\n",
       "      <td>0</td>\n",
       "    </tr>\n",
       "    <tr>\n",
       "      <th>95</th>\n",
       "      <td>306</td>\n",
       "      <td>0</td>\n",
       "      <td>0</td>\n",
       "      <td>0</td>\n",
       "      <td>0</td>\n",
       "      <td>0</td>\n",
       "      <td>0</td>\n",
       "      <td>0</td>\n",
       "      <td>0</td>\n",
       "      <td>0</td>\n",
       "      <td>...</td>\n",
       "      <td>0</td>\n",
       "      <td>0</td>\n",
       "      <td>0</td>\n",
       "      <td>0</td>\n",
       "      <td>0</td>\n",
       "      <td>0</td>\n",
       "      <td>0</td>\n",
       "      <td>0</td>\n",
       "      <td>0</td>\n",
       "      <td>1</td>\n",
       "    </tr>\n",
       "  </tbody>\n",
       "</table>\n",
       "<p>96 rows × 97 columns</p>\n",
       "</div>"
      ],
      "text/plain": [
       "    Passengers  month_1  month_2  month_3  month_4  month_5  month_6  month_7  \\\n",
       "0          112        1        0        0        0        0        0        0   \n",
       "1          118        0        1        0        0        0        0        0   \n",
       "2          132        0        0        1        0        0        0        0   \n",
       "3          129        0        0        0        1        0        0        0   \n",
       "4          121        0        0        0        0        1        0        0   \n",
       "..         ...      ...      ...      ...      ...      ...      ...      ...   \n",
       "91         405        0        0        0        0        0        0        0   \n",
       "92         355        0        0        0        0        0        0        0   \n",
       "93         306        0        0        0        0        0        0        0   \n",
       "94         271        0        0        0        0        0        0        0   \n",
       "95         306        0        0        0        0        0        0        0   \n",
       "\n",
       "    month_8  month_9  ...  Month_2002-03-01 00:00:00  \\\n",
       "0         0        0  ...                          0   \n",
       "1         0        0  ...                          0   \n",
       "2         0        0  ...                          0   \n",
       "3         0        0  ...                          0   \n",
       "4         0        0  ...                          0   \n",
       "..      ...      ...  ...                        ...   \n",
       "91        0        0  ...                          0   \n",
       "92        0        0  ...                          0   \n",
       "93        0        0  ...                          0   \n",
       "94        0        0  ...                          0   \n",
       "95        0        0  ...                          0   \n",
       "\n",
       "    Month_2002-04-01 00:00:00  Month_2002-05-01 00:00:00  \\\n",
       "0                           0                          0   \n",
       "1                           0                          0   \n",
       "2                           0                          0   \n",
       "3                           0                          0   \n",
       "4                           0                          0   \n",
       "..                        ...                        ...   \n",
       "91                          0                          0   \n",
       "92                          0                          0   \n",
       "93                          0                          0   \n",
       "94                          0                          0   \n",
       "95                          0                          0   \n",
       "\n",
       "    Month_2002-06-01 00:00:00  Month_2002-07-01 00:00:00  \\\n",
       "0                           0                          0   \n",
       "1                           0                          0   \n",
       "2                           0                          0   \n",
       "3                           0                          0   \n",
       "4                           0                          0   \n",
       "..                        ...                        ...   \n",
       "91                          0                          0   \n",
       "92                          0                          0   \n",
       "93                          0                          0   \n",
       "94                          0                          0   \n",
       "95                          0                          0   \n",
       "\n",
       "    Month_2002-08-01 00:00:00  Month_2002-09-01 00:00:00  \\\n",
       "0                           0                          0   \n",
       "1                           0                          0   \n",
       "2                           0                          0   \n",
       "3                           0                          0   \n",
       "4                           0                          0   \n",
       "..                        ...                        ...   \n",
       "91                          1                          0   \n",
       "92                          0                          1   \n",
       "93                          0                          0   \n",
       "94                          0                          0   \n",
       "95                          0                          0   \n",
       "\n",
       "    Month_2002-10-01 00:00:00  Month_2002-11-01 00:00:00  \\\n",
       "0                           0                          0   \n",
       "1                           0                          0   \n",
       "2                           0                          0   \n",
       "3                           0                          0   \n",
       "4                           0                          0   \n",
       "..                        ...                        ...   \n",
       "91                          0                          0   \n",
       "92                          0                          0   \n",
       "93                          1                          0   \n",
       "94                          0                          1   \n",
       "95                          0                          0   \n",
       "\n",
       "    Month_2002-12-01 00:00:00  \n",
       "0                           0  \n",
       "1                           0  \n",
       "2                           0  \n",
       "3                           0  \n",
       "4                           0  \n",
       "..                        ...  \n",
       "91                          0  \n",
       "92                          0  \n",
       "93                          0  \n",
       "94                          0  \n",
       "95                          1  \n",
       "\n",
       "[96 rows x 97 columns]"
      ]
     },
     "execution_count": 30,
     "metadata": {},
     "output_type": "execute_result"
    }
   ],
   "source": [
    "df2 = df2.rename(columns={\"Month_1995-01-01 00:00:00\":\"month_1\",\"Month_1995-02-01 00:00:00\":\"month_2\",\n",
    "                          \"Month_1995-03-01 00:00:00\":\"month_3\",\"Month_1995-04-01 00:00:00\":\"month_4\",\n",
    "                          \"Month_1995-05-01 00:00:00\":\"month_5\",\"Month_1995-06-01 00:00:00\":\"month_6\",\n",
    "                         \"Month_1995-07-01 00:00:00\":\"month_7\",\"Month_1995-08-01 00:00:00\":\"month_8\",\n",
    "                         \"Month_1995-09-01 00:00:00\":\"month_9\",\"Month_1995-10-01 00:00:00\":\"month_10\",\n",
    "                         \"Month_1995-11-01 00:00:00\":\"month_11\",\"Month_1995-12-01 00:00:00\":\"month_12\"})\n",
    "df2 "
   ]
  },
  {
   "cell_type": "code",
   "execution_count": null,
   "id": "43d93cf8",
   "metadata": {
    "ExecuteTime": {
     "end_time": "2021-10-05T12:47:32.928965Z",
     "start_time": "2021-10-05T12:47:32.904967Z"
    }
   },
   "outputs": [],
   "source": []
  },
  {
   "cell_type": "code",
   "execution_count": 40,
   "id": "b55e1f4f",
   "metadata": {
    "ExecuteTime": {
     "end_time": "2021-10-05T12:49:39.240147Z",
     "start_time": "2021-10-05T12:49:39.224149Z"
    }
   },
   "outputs": [],
   "source": [
    "t= np.arange(1,97)"
   ]
  },
  {
   "cell_type": "code",
   "execution_count": 41,
   "id": "81232809",
   "metadata": {
    "ExecuteTime": {
     "end_time": "2021-10-05T12:49:43.451357Z",
     "start_time": "2021-10-05T12:49:43.427353Z"
    }
   },
   "outputs": [],
   "source": [
    "df2['t'] = t"
   ]
  },
  {
   "cell_type": "code",
   "execution_count": 42,
   "id": "64046c6f",
   "metadata": {
    "ExecuteTime": {
     "end_time": "2021-10-05T12:49:55.779335Z",
     "start_time": "2021-10-05T12:49:55.763315Z"
    }
   },
   "outputs": [],
   "source": [
    "df2['t_sq'] = df2['t']*df2['t']"
   ]
  },
  {
   "cell_type": "code",
   "execution_count": 43,
   "id": "d329f5dd",
   "metadata": {
    "ExecuteTime": {
     "end_time": "2021-10-05T12:49:59.243736Z",
     "start_time": "2021-10-05T12:49:59.219717Z"
    }
   },
   "outputs": [],
   "source": [
    "log_Passengers=np.log(df2['Passengers'])"
   ]
  },
  {
   "cell_type": "code",
   "execution_count": 44,
   "id": "852c8796",
   "metadata": {
    "ExecuteTime": {
     "end_time": "2021-10-05T12:50:02.725943Z",
     "start_time": "2021-10-05T12:50:02.701927Z"
    }
   },
   "outputs": [],
   "source": [
    "df2['log_Passengers']=log_Passengers"
   ]
  },
  {
   "cell_type": "code",
   "execution_count": 45,
   "id": "4aae713d",
   "metadata": {
    "ExecuteTime": {
     "end_time": "2021-10-05T12:50:06.357767Z",
     "start_time": "2021-10-05T12:50:06.309764Z"
    }
   },
   "outputs": [
    {
     "data": {
      "text/html": [
       "<div>\n",
       "<style scoped>\n",
       "    .dataframe tbody tr th:only-of-type {\n",
       "        vertical-align: middle;\n",
       "    }\n",
       "\n",
       "    .dataframe tbody tr th {\n",
       "        vertical-align: top;\n",
       "    }\n",
       "\n",
       "    .dataframe thead th {\n",
       "        text-align: right;\n",
       "    }\n",
       "</style>\n",
       "<table border=\"1\" class=\"dataframe\">\n",
       "  <thead>\n",
       "    <tr style=\"text-align: right;\">\n",
       "      <th></th>\n",
       "      <th>Passengers</th>\n",
       "      <th>month_1</th>\n",
       "      <th>month_2</th>\n",
       "      <th>month_3</th>\n",
       "      <th>month_4</th>\n",
       "      <th>month_5</th>\n",
       "      <th>month_6</th>\n",
       "      <th>month_7</th>\n",
       "      <th>month_8</th>\n",
       "      <th>month_9</th>\n",
       "      <th>...</th>\n",
       "      <th>Month_2002-06-01 00:00:00</th>\n",
       "      <th>Month_2002-07-01 00:00:00</th>\n",
       "      <th>Month_2002-08-01 00:00:00</th>\n",
       "      <th>Month_2002-09-01 00:00:00</th>\n",
       "      <th>Month_2002-10-01 00:00:00</th>\n",
       "      <th>Month_2002-11-01 00:00:00</th>\n",
       "      <th>Month_2002-12-01 00:00:00</th>\n",
       "      <th>t</th>\n",
       "      <th>t_sq</th>\n",
       "      <th>log_Passengers</th>\n",
       "    </tr>\n",
       "  </thead>\n",
       "  <tbody>\n",
       "    <tr>\n",
       "      <th>0</th>\n",
       "      <td>112</td>\n",
       "      <td>1</td>\n",
       "      <td>0</td>\n",
       "      <td>0</td>\n",
       "      <td>0</td>\n",
       "      <td>0</td>\n",
       "      <td>0</td>\n",
       "      <td>0</td>\n",
       "      <td>0</td>\n",
       "      <td>0</td>\n",
       "      <td>...</td>\n",
       "      <td>0</td>\n",
       "      <td>0</td>\n",
       "      <td>0</td>\n",
       "      <td>0</td>\n",
       "      <td>0</td>\n",
       "      <td>0</td>\n",
       "      <td>0</td>\n",
       "      <td>1</td>\n",
       "      <td>1</td>\n",
       "      <td>4.718499</td>\n",
       "    </tr>\n",
       "    <tr>\n",
       "      <th>1</th>\n",
       "      <td>118</td>\n",
       "      <td>0</td>\n",
       "      <td>1</td>\n",
       "      <td>0</td>\n",
       "      <td>0</td>\n",
       "      <td>0</td>\n",
       "      <td>0</td>\n",
       "      <td>0</td>\n",
       "      <td>0</td>\n",
       "      <td>0</td>\n",
       "      <td>...</td>\n",
       "      <td>0</td>\n",
       "      <td>0</td>\n",
       "      <td>0</td>\n",
       "      <td>0</td>\n",
       "      <td>0</td>\n",
       "      <td>0</td>\n",
       "      <td>0</td>\n",
       "      <td>2</td>\n",
       "      <td>4</td>\n",
       "      <td>4.770685</td>\n",
       "    </tr>\n",
       "    <tr>\n",
       "      <th>2</th>\n",
       "      <td>132</td>\n",
       "      <td>0</td>\n",
       "      <td>0</td>\n",
       "      <td>1</td>\n",
       "      <td>0</td>\n",
       "      <td>0</td>\n",
       "      <td>0</td>\n",
       "      <td>0</td>\n",
       "      <td>0</td>\n",
       "      <td>0</td>\n",
       "      <td>...</td>\n",
       "      <td>0</td>\n",
       "      <td>0</td>\n",
       "      <td>0</td>\n",
       "      <td>0</td>\n",
       "      <td>0</td>\n",
       "      <td>0</td>\n",
       "      <td>0</td>\n",
       "      <td>3</td>\n",
       "      <td>9</td>\n",
       "      <td>4.882802</td>\n",
       "    </tr>\n",
       "    <tr>\n",
       "      <th>3</th>\n",
       "      <td>129</td>\n",
       "      <td>0</td>\n",
       "      <td>0</td>\n",
       "      <td>0</td>\n",
       "      <td>1</td>\n",
       "      <td>0</td>\n",
       "      <td>0</td>\n",
       "      <td>0</td>\n",
       "      <td>0</td>\n",
       "      <td>0</td>\n",
       "      <td>...</td>\n",
       "      <td>0</td>\n",
       "      <td>0</td>\n",
       "      <td>0</td>\n",
       "      <td>0</td>\n",
       "      <td>0</td>\n",
       "      <td>0</td>\n",
       "      <td>0</td>\n",
       "      <td>4</td>\n",
       "      <td>16</td>\n",
       "      <td>4.859812</td>\n",
       "    </tr>\n",
       "    <tr>\n",
       "      <th>4</th>\n",
       "      <td>121</td>\n",
       "      <td>0</td>\n",
       "      <td>0</td>\n",
       "      <td>0</td>\n",
       "      <td>0</td>\n",
       "      <td>1</td>\n",
       "      <td>0</td>\n",
       "      <td>0</td>\n",
       "      <td>0</td>\n",
       "      <td>0</td>\n",
       "      <td>...</td>\n",
       "      <td>0</td>\n",
       "      <td>0</td>\n",
       "      <td>0</td>\n",
       "      <td>0</td>\n",
       "      <td>0</td>\n",
       "      <td>0</td>\n",
       "      <td>0</td>\n",
       "      <td>5</td>\n",
       "      <td>25</td>\n",
       "      <td>4.795791</td>\n",
       "    </tr>\n",
       "  </tbody>\n",
       "</table>\n",
       "<p>5 rows × 100 columns</p>\n",
       "</div>"
      ],
      "text/plain": [
       "   Passengers  month_1  month_2  month_3  month_4  month_5  month_6  month_7  \\\n",
       "0         112        1        0        0        0        0        0        0   \n",
       "1         118        0        1        0        0        0        0        0   \n",
       "2         132        0        0        1        0        0        0        0   \n",
       "3         129        0        0        0        1        0        0        0   \n",
       "4         121        0        0        0        0        1        0        0   \n",
       "\n",
       "   month_8  month_9  ...  Month_2002-06-01 00:00:00  \\\n",
       "0        0        0  ...                          0   \n",
       "1        0        0  ...                          0   \n",
       "2        0        0  ...                          0   \n",
       "3        0        0  ...                          0   \n",
       "4        0        0  ...                          0   \n",
       "\n",
       "   Month_2002-07-01 00:00:00  Month_2002-08-01 00:00:00  \\\n",
       "0                          0                          0   \n",
       "1                          0                          0   \n",
       "2                          0                          0   \n",
       "3                          0                          0   \n",
       "4                          0                          0   \n",
       "\n",
       "   Month_2002-09-01 00:00:00  Month_2002-10-01 00:00:00  \\\n",
       "0                          0                          0   \n",
       "1                          0                          0   \n",
       "2                          0                          0   \n",
       "3                          0                          0   \n",
       "4                          0                          0   \n",
       "\n",
       "   Month_2002-11-01 00:00:00  Month_2002-12-01 00:00:00  t  t_sq  \\\n",
       "0                          0                          0  1     1   \n",
       "1                          0                          0  2     4   \n",
       "2                          0                          0  3     9   \n",
       "3                          0                          0  4    16   \n",
       "4                          0                          0  5    25   \n",
       "\n",
       "   log_Passengers  \n",
       "0        4.718499  \n",
       "1        4.770685  \n",
       "2        4.882802  \n",
       "3        4.859812  \n",
       "4        4.795791  \n",
       "\n",
       "[5 rows x 100 columns]"
      ]
     },
     "execution_count": 45,
     "metadata": {},
     "output_type": "execute_result"
    }
   ],
   "source": [
    "df2.head()"
   ]
  },
  {
   "cell_type": "code",
   "execution_count": 46,
   "id": "a1e6a4fd",
   "metadata": {
    "ExecuteTime": {
     "end_time": "2021-10-05T12:50:30.892629Z",
     "start_time": "2021-10-05T12:50:30.876615Z"
    }
   },
   "outputs": [],
   "source": [
    "train1, test1 = np.split(df2, [int(.67 *len(df2))])"
   ]
  },
  {
   "cell_type": "code",
   "execution_count": 47,
   "id": "79ba2f6d",
   "metadata": {
    "ExecuteTime": {
     "end_time": "2021-10-05T12:50:33.294761Z",
     "start_time": "2021-10-05T12:50:32.926505Z"
    }
   },
   "outputs": [
    {
     "data": {
      "text/plain": [
       "25.50398351648347"
      ]
     },
     "execution_count": 47,
     "metadata": {},
     "output_type": "execute_result"
    }
   ],
   "source": [
    "import statsmodels.formula.api as smf\n",
    "linear= smf.ols('Passengers ~ t',data=train1).fit()\n",
    "predlin=pd.Series(linear.predict(pd.DataFrame(test1['t'])))\n",
    "rmselin=np.sqrt((np.mean(np.array(test1['Passengers'])-np.array(predlin))**2))\n",
    "rmselin"
   ]
  },
  {
   "cell_type": "code",
   "execution_count": 48,
   "id": "fd1ed4e4",
   "metadata": {
    "ExecuteTime": {
     "end_time": "2021-10-05T12:50:36.240927Z",
     "start_time": "2021-10-05T12:50:36.184931Z"
    }
   },
   "outputs": [
    {
     "data": {
      "text/plain": [
       "53.1895551441541"
      ]
     },
     "execution_count": 48,
     "metadata": {},
     "output_type": "execute_result"
    }
   ],
   "source": [
    "quad=smf.ols('Passengers~t+t_sq',data=train1).fit()\n",
    "predquad=pd.Series(quad.predict(pd.DataFrame(test1[['t','t_sq']])))\n",
    "rmsequad=np.sqrt(np.mean((np.array(test1['Passengers'])-np.array(predquad))**2))\n",
    "rmsequad"
   ]
  },
  {
   "cell_type": "code",
   "execution_count": 49,
   "id": "2420acd0",
   "metadata": {
    "ExecuteTime": {
     "end_time": "2021-10-05T12:50:38.154362Z",
     "start_time": "2021-10-05T12:50:38.114367Z"
    }
   },
   "outputs": [
    {
     "data": {
      "text/plain": [
       "1.6030945933279498e+128"
      ]
     },
     "execution_count": 49,
     "metadata": {},
     "output_type": "execute_result"
    }
   ],
   "source": [
    "expo=smf.ols('Passengers~t',data=train1).fit()\n",
    "predexp=pd.Series(expo.predict(pd.DataFrame(test1['t'])))\n",
    "rmseexpo=np.sqrt(np.mean((np.array(test1['Passengers'])-np.array(np.exp(predexp)))**2))\n",
    "rmseexpo"
   ]
  },
  {
   "cell_type": "code",
   "execution_count": 51,
   "id": "bd3c549a",
   "metadata": {
    "ExecuteTime": {
     "end_time": "2021-10-05T12:53:03.193623Z",
     "start_time": "2021-10-05T12:53:03.012724Z"
    }
   },
   "outputs": [
    {
     "data": {
      "text/plain": [
       "118.60439843615572"
      ]
     },
     "execution_count": 51,
     "metadata": {},
     "output_type": "execute_result"
    }
   ],
   "source": [
    "additive= smf.ols('Passengers~ month_1+month_2+month_3+month_4+month_5+month_6+month_7+month_8+month_9+month_10+month_11+month_12',data=train1).fit()\n",
    "predadd=pd.Series(additive.predict(pd.DataFrame(test1[['month_1','month_2','month_3','month_4','month_5','month_6','month_7','month_8','month_9','month_10','month_11','month_12']])))\n",
    "rmseadd=np.sqrt(np.mean((np.array(test1['Passengers'])-np.array(predadd))**2))\n",
    "rmseadd"
   ]
  },
  {
   "cell_type": "code",
   "execution_count": 52,
   "id": "f0caec3f",
   "metadata": {
    "ExecuteTime": {
     "end_time": "2021-10-05T12:55:01.292262Z",
     "start_time": "2021-10-05T12:55:01.171488Z"
    }
   },
   "outputs": [
    {
     "data": {
      "text/plain": [
       "118.60439843615572"
      ]
     },
     "execution_count": 52,
     "metadata": {},
     "output_type": "execute_result"
    }
   ],
   "source": [
    "addlinear= smf.ols('Passengers~ month_1+month_2+month_3+month_4+month_5+month_6+month_7+month_8+month_9+month_10+month_11+month_12',data=train1).fit()\n",
    "predaddlinear=pd.Series(addlinear.predict(pd.DataFrame(test1[['t','month_1','month_2','month_3','month_4','month_5','month_6','month_7','month_8','month_9','month_10','month_11','month_12']])))\n",
    "rmseaddlinear=np.sqrt(np.mean((np.array(test1['Passengers'])-np.array(predaddlinear))**2))\n",
    "rmseaddlinear"
   ]
  },
  {
   "cell_type": "code",
   "execution_count": 53,
   "id": "50718250",
   "metadata": {
    "ExecuteTime": {
     "end_time": "2021-10-05T12:56:43.406703Z",
     "start_time": "2021-10-05T12:56:43.294713Z"
    }
   },
   "outputs": [
    {
     "data": {
      "text/plain": [
       "83.97481125259863"
      ]
     },
     "execution_count": 53,
     "metadata": {},
     "output_type": "execute_result"
    }
   ],
   "source": [
    "addquad=smf.ols('Passengers~t+t_sq+month_1+month_2+month_3+month_4+month_5+month_6+month_7+month_8+month_9+month_10+month_11+month_12',data=train1).fit()\n",
    "predaddquad=pd.Series(addquad.predict(pd.DataFrame(test1[['t','t_sq','month_1','month_2','month_3','month_4','month_5','month_6','month_7','month_8','month_9','month_10','month_11','month_12']])))\n",
    "rmseaddquad=np.sqrt(np.mean((np.array(test1['Passengers'])-np.array(predaddquad))**2))\n",
    "rmseaddquad"
   ]
  },
  {
   "cell_type": "code",
   "execution_count": 54,
   "id": "1db117ef",
   "metadata": {
    "ExecuteTime": {
     "end_time": "2021-10-05T12:58:09.195587Z",
     "start_time": "2021-10-05T12:58:09.091442Z"
    }
   },
   "outputs": [
    {
     "data": {
      "text/plain": [
       "122.20973607172188"
      ]
     },
     "execution_count": 54,
     "metadata": {},
     "output_type": "execute_result"
    }
   ],
   "source": [
    "mulsea=smf.ols('log_Passengers~month_1+month_2+month_3+month_4+month_5+month_6+month_7+month_8+month_9+month_10+month_11+month_12',data=train1).fit()\n",
    "predmul= pd.Series(mulsea.predict(pd.DataFrame(test1[['month_1','month_2','month_3','month_4','month_5','month_6','month_7','month_8','month_9','month_10','month_11','month_12']])))\n",
    "rmsemul= np.sqrt(np.mean((np.array(test1['Passengers'])-np.array(np.exp(predmul)))**2))\n",
    "rmsemul"
   ]
  },
  {
   "cell_type": "code",
   "execution_count": 55,
   "id": "b4e17590",
   "metadata": {
    "ExecuteTime": {
     "end_time": "2021-10-05T12:59:00.210263Z",
     "start_time": "2021-10-05T12:59:00.106270Z"
    }
   },
   "outputs": [
    {
     "data": {
      "text/plain": [
       "40.901945550711446"
      ]
     },
     "execution_count": 55,
     "metadata": {},
     "output_type": "execute_result"
    }
   ],
   "source": [
    "mullin= smf.ols('log_Passengers~t+month_1+month_2+month_3+month_4+month_5+month_6+month_7+month_8+month_9+month_10+month_11+month_12',data=train1).fit()\n",
    "predmullin= pd.Series(mullin.predict(pd.DataFrame(test1[['t','month_1','month_2','month_3','month_4','month_5','month_6','month_7','month_8','month_9','month_10','month_11','month_12']])))\n",
    "rmsemulin=np.sqrt(np.mean((np.array(test1['Passengers'])-np.array(np.exp(predmullin)))**2))\n",
    "rmsemulin"
   ]
  },
  {
   "cell_type": "code",
   "execution_count": 56,
   "id": "3f85f78f",
   "metadata": {
    "ExecuteTime": {
     "end_time": "2021-10-05T12:59:47.481171Z",
     "start_time": "2021-10-05T12:59:47.353015Z"
    }
   },
   "outputs": [
    {
     "data": {
      "text/plain": [
       "100.05904451760036"
      ]
     },
     "execution_count": 56,
     "metadata": {},
     "output_type": "execute_result"
    }
   ],
   "source": [
    "mul_quad= smf.ols('log_Passengers~t+t_sq+month_1+month_2+month_3+month_4+month_5+month_6+month_7+month_8+month_9+month_10+month_11+month_12',data=train1).fit()\n",
    "pred_mul_quad= pd.Series(mul_quad.predict(test1[['t','t_sq','month_1','month_2','month_3','month_4','month_5','month_6','month_7','month_8','month_9','month_10','month_11','month_12']]))\n",
    "rmse_mul_quad=np.sqrt(np.mean((np.array(test1['Passengers'])-np.array(np.exp(pred_mul_quad)))**2))\n",
    "rmse_mul_quad"
   ]
  },
  {
   "cell_type": "code",
   "execution_count": null,
   "id": "35f0267f",
   "metadata": {},
   "outputs": [],
   "source": [
    "#Conclusion: Multiplicative seasonality has the best rsme value"
   ]
  },
  {
   "cell_type": "code",
   "execution_count": null,
   "id": "e6d3c1c0",
   "metadata": {},
   "outputs": [],
   "source": []
  }
 ],
 "metadata": {
  "kernelspec": {
   "display_name": "Python 3 (ipykernel)",
   "language": "python",
   "name": "python3"
  },
  "language_info": {
   "codemirror_mode": {
    "name": "ipython",
    "version": 3
   },
   "file_extension": ".py",
   "mimetype": "text/x-python",
   "name": "python",
   "nbconvert_exporter": "python",
   "pygments_lexer": "ipython3",
   "version": "3.8.8"
  },
  "toc": {
   "base_numbering": 1,
   "nav_menu": {},
   "number_sections": true,
   "sideBar": true,
   "skip_h1_title": false,
   "title_cell": "Table of Contents",
   "title_sidebar": "Contents",
   "toc_cell": false,
   "toc_position": {},
   "toc_section_display": true,
   "toc_window_display": false
  },
  "varInspector": {
   "cols": {
    "lenName": 16,
    "lenType": 16,
    "lenVar": 40
   },
   "kernels_config": {
    "python": {
     "delete_cmd_postfix": "",
     "delete_cmd_prefix": "del ",
     "library": "var_list.py",
     "varRefreshCmd": "print(var_dic_list())"
    },
    "r": {
     "delete_cmd_postfix": ") ",
     "delete_cmd_prefix": "rm(",
     "library": "var_list.r",
     "varRefreshCmd": "cat(var_dic_list()) "
    }
   },
   "types_to_exclude": [
    "module",
    "function",
    "builtin_function_or_method",
    "instance",
    "_Feature"
   ],
   "window_display": false
  }
 },
 "nbformat": 4,
 "nbformat_minor": 5
}
