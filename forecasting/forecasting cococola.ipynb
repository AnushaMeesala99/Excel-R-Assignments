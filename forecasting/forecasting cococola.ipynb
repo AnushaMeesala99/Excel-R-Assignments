{
 "cells": [
  {
   "cell_type": "code",
   "execution_count": 1,
   "id": "7fde058c",
   "metadata": {
    "ExecuteTime": {
     "end_time": "2021-10-06T13:02:57.972789Z",
     "start_time": "2021-10-06T13:02:40.967966Z"
    }
   },
   "outputs": [],
   "source": [
    "import pandas as pd\n",
    "import numpy as np\n",
    "import matplotlib.pyplot as plt \n",
    "from statsmodels.tsa.seasonal import seasonal_decompose\n",
    "from statsmodels.tsa.holtwinters import SimpleExpSmoothing\n",
    "from statsmodels.tsa.holtwinters import Holt\n",
    "from statsmodels.tsa.holtwinters import ExponentialSmoothing\n",
    "import statsmodels.graphics.tsaplots as tsa_plots\n",
    "import statsmodels.tsa.statespace as tm_models"
   ]
  },
  {
   "cell_type": "code",
   "execution_count": 13,
   "id": "b1569692",
   "metadata": {
    "ExecuteTime": {
     "end_time": "2021-10-06T13:07:48.561403Z",
     "start_time": "2021-10-06T13:07:48.513377Z"
    }
   },
   "outputs": [],
   "source": [
    "df = pd.read_excel(\"CocaCola_Sales_Rawdata.xlsx\")"
   ]
  },
  {
   "cell_type": "code",
   "execution_count": 14,
   "id": "bf6a44d5",
   "metadata": {
    "ExecuteTime": {
     "end_time": "2021-10-06T13:07:50.071736Z",
     "start_time": "2021-10-06T13:07:50.055736Z"
    }
   },
   "outputs": [],
   "source": [
    "df1 = df.copy()"
   ]
  },
  {
   "cell_type": "code",
   "execution_count": 15,
   "id": "c02fd2a0",
   "metadata": {
    "ExecuteTime": {
     "end_time": "2021-10-06T13:07:51.474190Z",
     "start_time": "2021-10-06T13:07:51.442193Z"
    }
   },
   "outputs": [
    {
     "data": {
      "text/html": [
       "<div>\n",
       "<style scoped>\n",
       "    .dataframe tbody tr th:only-of-type {\n",
       "        vertical-align: middle;\n",
       "    }\n",
       "\n",
       "    .dataframe tbody tr th {\n",
       "        vertical-align: top;\n",
       "    }\n",
       "\n",
       "    .dataframe thead th {\n",
       "        text-align: right;\n",
       "    }\n",
       "</style>\n",
       "<table border=\"1\" class=\"dataframe\">\n",
       "  <thead>\n",
       "    <tr style=\"text-align: right;\">\n",
       "      <th></th>\n",
       "      <th>Quarter</th>\n",
       "      <th>Sales</th>\n",
       "    </tr>\n",
       "  </thead>\n",
       "  <tbody>\n",
       "    <tr>\n",
       "      <th>0</th>\n",
       "      <td>Q1_86</td>\n",
       "      <td>1734.827000</td>\n",
       "    </tr>\n",
       "    <tr>\n",
       "      <th>1</th>\n",
       "      <td>Q2_86</td>\n",
       "      <td>2244.960999</td>\n",
       "    </tr>\n",
       "    <tr>\n",
       "      <th>2</th>\n",
       "      <td>Q3_86</td>\n",
       "      <td>2533.804993</td>\n",
       "    </tr>\n",
       "    <tr>\n",
       "      <th>3</th>\n",
       "      <td>Q4_86</td>\n",
       "      <td>2154.962997</td>\n",
       "    </tr>\n",
       "    <tr>\n",
       "      <th>4</th>\n",
       "      <td>Q1_87</td>\n",
       "      <td>1547.818996</td>\n",
       "    </tr>\n",
       "  </tbody>\n",
       "</table>\n",
       "</div>"
      ],
      "text/plain": [
       "  Quarter        Sales\n",
       "0   Q1_86  1734.827000\n",
       "1   Q2_86  2244.960999\n",
       "2   Q3_86  2533.804993\n",
       "3   Q4_86  2154.962997\n",
       "4   Q1_87  1547.818996"
      ]
     },
     "execution_count": 15,
     "metadata": {},
     "output_type": "execute_result"
    }
   ],
   "source": [
    "df1.head()"
   ]
  },
  {
   "cell_type": "code",
   "execution_count": 16,
   "id": "26fb080a",
   "metadata": {
    "ExecuteTime": {
     "end_time": "2021-10-06T13:07:53.971530Z",
     "start_time": "2021-10-06T13:07:53.947531Z"
    }
   },
   "outputs": [
    {
     "name": "stderr",
     "output_type": "stream",
     "text": [
      "C:\\Users\\dell\\AppData\\Local\\Temp/ipykernel_10820/2398921163.py:1: FutureWarning: The default value of regex will change from True to False in a future version.\n",
      "  temp = df1.Quarter.str.replace(r'(Q\\d)_(\\d+)', r'19\\2-\\1')\n"
     ]
    }
   ],
   "source": [
    "temp = df1.Quarter.str.replace(r'(Q\\d)_(\\d+)', r'19\\2-\\1')"
   ]
  },
  {
   "cell_type": "code",
   "execution_count": 17,
   "id": "561f48bb",
   "metadata": {
    "ExecuteTime": {
     "end_time": "2021-10-06T13:07:55.501955Z",
     "start_time": "2021-10-06T13:07:55.485060Z"
    }
   },
   "outputs": [],
   "source": [
    "df1['quater'] = pd.to_datetime(temp).dt.strftime('%b-%Y')"
   ]
  },
  {
   "cell_type": "code",
   "execution_count": 18,
   "id": "03002d25",
   "metadata": {
    "ExecuteTime": {
     "end_time": "2021-10-06T13:07:57.336610Z",
     "start_time": "2021-10-06T13:07:57.304612Z"
    }
   },
   "outputs": [
    {
     "data": {
      "text/html": [
       "<div>\n",
       "<style scoped>\n",
       "    .dataframe tbody tr th:only-of-type {\n",
       "        vertical-align: middle;\n",
       "    }\n",
       "\n",
       "    .dataframe tbody tr th {\n",
       "        vertical-align: top;\n",
       "    }\n",
       "\n",
       "    .dataframe thead th {\n",
       "        text-align: right;\n",
       "    }\n",
       "</style>\n",
       "<table border=\"1\" class=\"dataframe\">\n",
       "  <thead>\n",
       "    <tr style=\"text-align: right;\">\n",
       "      <th></th>\n",
       "      <th>Quarter</th>\n",
       "      <th>Sales</th>\n",
       "      <th>quater</th>\n",
       "    </tr>\n",
       "  </thead>\n",
       "  <tbody>\n",
       "    <tr>\n",
       "      <th>0</th>\n",
       "      <td>Q1_86</td>\n",
       "      <td>1734.827000</td>\n",
       "      <td>Jan-1986</td>\n",
       "    </tr>\n",
       "    <tr>\n",
       "      <th>1</th>\n",
       "      <td>Q2_86</td>\n",
       "      <td>2244.960999</td>\n",
       "      <td>Apr-1986</td>\n",
       "    </tr>\n",
       "    <tr>\n",
       "      <th>2</th>\n",
       "      <td>Q3_86</td>\n",
       "      <td>2533.804993</td>\n",
       "      <td>Jul-1986</td>\n",
       "    </tr>\n",
       "    <tr>\n",
       "      <th>3</th>\n",
       "      <td>Q4_86</td>\n",
       "      <td>2154.962997</td>\n",
       "      <td>Oct-1986</td>\n",
       "    </tr>\n",
       "    <tr>\n",
       "      <th>4</th>\n",
       "      <td>Q1_87</td>\n",
       "      <td>1547.818996</td>\n",
       "      <td>Jan-1987</td>\n",
       "    </tr>\n",
       "  </tbody>\n",
       "</table>\n",
       "</div>"
      ],
      "text/plain": [
       "  Quarter        Sales    quater\n",
       "0   Q1_86  1734.827000  Jan-1986\n",
       "1   Q2_86  2244.960999  Apr-1986\n",
       "2   Q3_86  2533.804993  Jul-1986\n",
       "3   Q4_86  2154.962997  Oct-1986\n",
       "4   Q1_87  1547.818996  Jan-1987"
      ]
     },
     "execution_count": 18,
     "metadata": {},
     "output_type": "execute_result"
    }
   ],
   "source": [
    "df1.head()"
   ]
  },
  {
   "cell_type": "code",
   "execution_count": 19,
   "id": "88973a15",
   "metadata": {
    "ExecuteTime": {
     "end_time": "2021-10-06T13:07:59.884529Z",
     "start_time": "2021-10-06T13:07:59.860529Z"
    }
   },
   "outputs": [],
   "source": [
    "df1 = df1.drop(['Quarter'], axis=1)"
   ]
  },
  {
   "cell_type": "code",
   "execution_count": 20,
   "id": "3c09bc63",
   "metadata": {
    "ExecuteTime": {
     "end_time": "2021-10-06T13:08:01.217784Z",
     "start_time": "2021-10-06T13:08:01.193785Z"
    }
   },
   "outputs": [],
   "source": [
    "df1.reset_index(inplace=True)"
   ]
  },
  {
   "cell_type": "code",
   "execution_count": 21,
   "id": "de1219c9",
   "metadata": {
    "ExecuteTime": {
     "end_time": "2021-10-06T13:08:02.548398Z",
     "start_time": "2021-10-06T13:08:02.532400Z"
    }
   },
   "outputs": [],
   "source": [
    "df1['quater'] = pd.to_datetime(df1['quater'])"
   ]
  },
  {
   "cell_type": "code",
   "execution_count": 22,
   "id": "a1a72c6c",
   "metadata": {
    "ExecuteTime": {
     "end_time": "2021-10-06T13:08:03.872605Z",
     "start_time": "2021-10-06T13:08:03.856609Z"
    }
   },
   "outputs": [],
   "source": [
    "df1 = df1.set_index('quater')"
   ]
  },
  {
   "cell_type": "code",
   "execution_count": 23,
   "id": "9f381893",
   "metadata": {
    "ExecuteTime": {
     "end_time": "2021-10-06T13:08:24.347062Z",
     "start_time": "2021-10-06T13:08:24.323061Z"
    }
   },
   "outputs": [
    {
     "data": {
      "text/html": [
       "<div>\n",
       "<style scoped>\n",
       "    .dataframe tbody tr th:only-of-type {\n",
       "        vertical-align: middle;\n",
       "    }\n",
       "\n",
       "    .dataframe tbody tr th {\n",
       "        vertical-align: top;\n",
       "    }\n",
       "\n",
       "    .dataframe thead th {\n",
       "        text-align: right;\n",
       "    }\n",
       "</style>\n",
       "<table border=\"1\" class=\"dataframe\">\n",
       "  <thead>\n",
       "    <tr style=\"text-align: right;\">\n",
       "      <th></th>\n",
       "      <th>index</th>\n",
       "      <th>Sales</th>\n",
       "    </tr>\n",
       "    <tr>\n",
       "      <th>quater</th>\n",
       "      <th></th>\n",
       "      <th></th>\n",
       "    </tr>\n",
       "  </thead>\n",
       "  <tbody>\n",
       "    <tr>\n",
       "      <th>1986-01-01</th>\n",
       "      <td>0</td>\n",
       "      <td>1734.827000</td>\n",
       "    </tr>\n",
       "    <tr>\n",
       "      <th>1986-04-01</th>\n",
       "      <td>1</td>\n",
       "      <td>2244.960999</td>\n",
       "    </tr>\n",
       "    <tr>\n",
       "      <th>1986-07-01</th>\n",
       "      <td>2</td>\n",
       "      <td>2533.804993</td>\n",
       "    </tr>\n",
       "    <tr>\n",
       "      <th>1986-10-01</th>\n",
       "      <td>3</td>\n",
       "      <td>2154.962997</td>\n",
       "    </tr>\n",
       "    <tr>\n",
       "      <th>1987-01-01</th>\n",
       "      <td>4</td>\n",
       "      <td>1547.818996</td>\n",
       "    </tr>\n",
       "  </tbody>\n",
       "</table>\n",
       "</div>"
      ],
      "text/plain": [
       "            index        Sales\n",
       "quater                        \n",
       "1986-01-01      0  1734.827000\n",
       "1986-04-01      1  2244.960999\n",
       "1986-07-01      2  2533.804993\n",
       "1986-10-01      3  2154.962997\n",
       "1987-01-01      4  1547.818996"
      ]
     },
     "execution_count": 23,
     "metadata": {},
     "output_type": "execute_result"
    }
   ],
   "source": [
    "df1.head()"
   ]
  },
  {
   "cell_type": "code",
   "execution_count": 25,
   "id": "0bd80b1a",
   "metadata": {
    "ExecuteTime": {
     "end_time": "2021-10-06T13:09:07.630194Z",
     "start_time": "2021-10-06T13:09:07.064438Z"
    }
   },
   "outputs": [
    {
     "data": {
      "image/png": "[encoded data removed]",
      "text/plain": [
       "<Figure size 720x360 with 1 Axes>"
      ]
     },
     "metadata": {
      "needs_background": "light"
     },
     "output_type": "display_data"
    }
   ],
   "source": [
    "df1['Sales'].plot(figsize=(10, 5))\n",
    "plt.show()"
   ]
  },
  {
   "cell_type": "code",
   "execution_count": 26,
   "id": "f16f3df4",
   "metadata": {
    "ExecuteTime": {
     "end_time": "2021-10-06T13:09:32.706316Z",
     "start_time": "2021-10-06T13:09:31.836242Z"
    }
   },
   "outputs": [
    {
     "data": {
      "image/png": "[encoded data removed]",
      "text/plain": [
       "<Figure size 432x288 with 1 Axes>"
      ]
     },
     "execution_count": 26,
     "metadata": {},
     "output_type": "execute_result"
    },
    {
     "data": {
      "image/png": "[encoded data removed]",
      "text/plain": [
       "<Figure size 432x288 with 1 Axes>"
      ]
     },
     "metadata": {
      "needs_background": "light"
     },
     "output_type": "display_data"
    }
   ],
   "source": [
    "tsa_plots.plot_acf(df1.Sales)"
   ]
  },
  {
   "cell_type": "code",
   "execution_count": null,
   "id": "b3e24de6",
   "metadata": {},
   "outputs": [],
   "source": [
    "#Building Time series forecasting with ARIMA"
   ]
  },
  {
   "cell_type": "code",
   "execution_count": 28,
   "id": "7b3a251c",
   "metadata": {
    "ExecuteTime": {
     "end_time": "2021-10-06T13:14:23.922723Z",
     "start_time": "2021-10-06T13:14:23.906704Z"
    }
   },
   "outputs": [],
   "source": [
    "X = df1['Sales'].values"
   ]
  },
  {
   "cell_type": "code",
   "execution_count": 29,
   "id": "3e079a24",
   "metadata": {
    "ExecuteTime": {
     "end_time": "2021-10-06T13:14:35.469157Z",
     "start_time": "2021-10-06T13:14:35.453167Z"
    }
   },
   "outputs": [],
   "source": [
    "size = int(len(X) * 0.66)"
   ]
  },
  {
   "cell_type": "code",
   "execution_count": 30,
   "id": "fe6acdd0",
   "metadata": {
    "ExecuteTime": {
     "end_time": "2021-10-06T13:14:50.004220Z",
     "start_time": "2021-10-06T13:14:49.988225Z"
    }
   },
   "outputs": [],
   "source": [
    "train, test = X[0:size], X[size:len(X)]"
   ]
  },
  {
   "cell_type": "code",
   "execution_count": 32,
   "id": "f4c7b482",
   "metadata": {
    "ExecuteTime": {
     "end_time": "2021-10-06T13:15:52.685072Z",
     "start_time": "2021-10-06T13:15:52.587282Z"
    }
   },
   "outputs": [
    {
     "name": "stderr",
     "output_type": "stream",
     "text": [
      "C:\\Users\\dell\\anaconda3\\lib\\site-packages\\statsmodels\\tsa\\arima_model.py:472: FutureWarning: \n",
      "statsmodels.tsa.arima_model.ARMA and statsmodels.tsa.arima_model.ARIMA have\n",
      "been deprecated in favor of statsmodels.tsa.arima.model.ARIMA (note the .\n",
      "between arima and model) and\n",
      "statsmodels.tsa.SARIMAX. These will be removed after the 0.12 release.\n",
      "\n",
      "statsmodels.tsa.arima.model.ARIMA makes use of the statespace framework and\n",
      "is both well tested and maintained.\n",
      "\n",
      "To silence this warning and continue using ARMA and ARIMA until they are\n",
      "removed, use:\n",
      "\n",
      "import warnings\n",
      "warnings.filterwarnings('ignore', 'statsmodels.tsa.arima_model.ARMA',\n",
      "                        FutureWarning)\n",
      "warnings.filterwarnings('ignore', 'statsmodels.tsa.arima_model.ARIMA',\n",
      "                        FutureWarning)\n",
      "\n",
      "  warnings.warn(ARIMA_DEPRECATION_WARN, FutureWarning)\n"
     ]
    }
   ],
   "source": [
    "from statsmodels.tsa.arima_model import ARIMA\n",
    "model = ARIMA(train, order=(5,1,0))"
   ]
  },
  {
   "cell_type": "code",
   "execution_count": 33,
   "id": "e9411d63",
   "metadata": {
    "ExecuteTime": {
     "end_time": "2021-10-06T13:32:26.789254Z",
     "start_time": "2021-10-06T13:32:24.352243Z"
    }
   },
   "outputs": [
    {
     "name": "stderr",
     "output_type": "stream",
     "text": [
      "C:\\Users\\dell\\anaconda3\\lib\\site-packages\\statsmodels\\tsa\\arima_model.py:472: FutureWarning: \n",
      "statsmodels.tsa.arima_model.ARMA and statsmodels.tsa.arima_model.ARIMA have\n",
      "been deprecated in favor of statsmodels.tsa.arima.model.ARIMA (note the .\n",
      "between arima and model) and\n",
      "statsmodels.tsa.SARIMAX. These will be removed after the 0.12 release.\n",
      "\n",
      "statsmodels.tsa.arima.model.ARIMA makes use of the statespace framework and\n",
      "is both well tested and maintained.\n",
      "\n",
      "To silence this warning and continue using ARMA and ARIMA until they are\n",
      "removed, use:\n",
      "\n",
      "import warnings\n",
      "warnings.filterwarnings('ignore', 'statsmodels.tsa.arima_model.ARMA',\n",
      "                        FutureWarning)\n",
      "warnings.filterwarnings('ignore', 'statsmodels.tsa.arima_model.ARIMA',\n",
      "                        FutureWarning)\n",
      "\n",
      "  warnings.warn(ARIMA_DEPRECATION_WARN, FutureWarning)\n"
     ]
    }
   ],
   "source": [
    "model_fit = model.fit(disp=0)"
   ]
  },
  {
   "cell_type": "code",
   "execution_count": 34,
   "id": "79cec475",
   "metadata": {
    "ExecuteTime": {
     "end_time": "2021-10-06T13:32:33.843390Z",
     "start_time": "2021-10-06T13:32:33.730725Z"
    }
   },
   "outputs": [
    {
     "name": "stdout",
     "output_type": "stream",
     "text": [
      "                             ARIMA Model Results                              \n",
      "==============================================================================\n",
      "Dep. Variable:                    D.y   No. Observations:                   26\n",
      "Model:                 ARIMA(5, 1, 0)   Log Likelihood                -172.036\n",
      "Method:                       css-mle   S.D. of innovations            163.191\n",
      "Date:                Wed, 06 Oct 2021   AIC                            358.071\n",
      "Time:                        19:02:33   BIC                            366.878\n",
      "Sample:                             1   HQIC                           360.607\n",
      "                                                                              \n",
      "==============================================================================\n",
      "                 coef    std err          z      P>|z|      [0.025      0.975]\n",
      "------------------------------------------------------------------------------\n",
      "const         41.8450     26.509      1.579      0.114     -10.111      93.801\n",
      "ar.L1.D.y     -0.1479      0.195     -0.758      0.448      -0.530       0.234\n",
      "ar.L2.D.y     -0.3127      0.157     -1.996      0.046      -0.620      -0.006\n",
      "ar.L3.D.y     -0.1881      0.173     -1.090      0.276      -0.526       0.150\n",
      "ar.L4.D.y      0.6222      0.167      3.716      0.000       0.294       0.950\n",
      "ar.L5.D.y     -0.1766      0.220     -0.804      0.422      -0.607       0.254\n",
      "                                    Roots                                    \n",
      "=============================================================================\n",
      "                  Real          Imaginary           Modulus         Frequency\n",
      "-----------------------------------------------------------------------------\n",
      "AR.1           -1.0476           -0.0000j            1.0476           -0.5000\n",
      "AR.2           -0.0437           -1.0161j            1.0170           -0.2568\n",
      "AR.3           -0.0437           +1.0161j            1.0170            0.2568\n",
      "AR.4            1.8835           -0.0000j            1.8835           -0.0000\n",
      "AR.5            2.7753           -0.0000j            2.7753           -0.0000\n",
      "-----------------------------------------------------------------------------\n"
     ]
    }
   ],
   "source": [
    "print(model_fit.summary())"
   ]
  },
  {
   "cell_type": "code",
   "execution_count": null,
   "id": "16d5e598",
   "metadata": {},
   "outputs": [],
   "source": [
    "#This summarizes the coefficient values used as well as the skill of the fit on the on the in-sample observations"
   ]
  },
  {
   "cell_type": "code",
   "execution_count": 36,
   "id": "dc727eb4",
   "metadata": {
    "ExecuteTime": {
     "end_time": "2021-10-06T13:33:34.293737Z",
     "start_time": "2021-10-06T13:33:33.196351Z"
    }
   },
   "outputs": [
    {
     "data": {
      "image/png": "[encoded data removed]",
      "text/plain": [
       "<Figure size 432x288 with 1 Axes>"
      ]
     },
     "metadata": {
      "needs_background": "light"
     },
     "output_type": "display_data"
    },
    {
     "data": {
      "image/png": "[encoded data removed]",
      "text/plain": [
       "<Figure size 432x288 with 1 Axes>"
      ]
     },
     "metadata": {
      "needs_background": "light"
     },
     "output_type": "display_data"
    },
    {
     "name": "stdout",
     "output_type": "stream",
     "text": [
      "                0\n",
      "count   26.000000\n",
      "mean    31.323830\n",
      "std    202.030060\n",
      "min   -438.909568\n",
      "25%    -58.604741\n",
      "50%     -9.192260\n",
      "75%    200.233974\n",
      "max    468.289005\n"
     ]
    }
   ],
   "source": [
    "from matplotlib import pyplot\n",
    "residuals = pd.DataFrame(model_fit.resid)\n",
    "residuals.plot()\n",
    "pyplot.show()\n",
    "residuals.plot(kind='kde')\n",
    "pyplot.show()\n",
    "print(residuals.describe())"
   ]
  },
  {
   "cell_type": "code",
   "execution_count": null,
   "id": "abb417d2",
   "metadata": {},
   "outputs": [],
   "source": [
    "#Rolling Forecast ARIMA Model"
   ]
  },
  {
   "cell_type": "code",
   "execution_count": 37,
   "id": "0e3a1455",
   "metadata": {
    "ExecuteTime": {
     "end_time": "2021-10-06T13:34:02.392691Z",
     "start_time": "2021-10-06T13:34:02.376674Z"
    }
   },
   "outputs": [],
   "source": [
    "history = [x for x in train]"
   ]
  },
  {
   "cell_type": "code",
   "execution_count": 38,
   "id": "5193d9d9",
   "metadata": {
    "ExecuteTime": {
     "end_time": "2021-10-06T13:34:11.345810Z",
     "start_time": "2021-10-06T13:34:11.321804Z"
    }
   },
   "outputs": [],
   "source": [
    "predictions = list()"
   ]
  },
  {
   "cell_type": "code",
   "execution_count": 39,
   "id": "c66e2820",
   "metadata": {
    "ExecuteTime": {
     "end_time": "2021-10-06T13:35:05.869351Z",
     "start_time": "2021-10-06T13:34:48.774868Z"
    }
   },
   "outputs": [
    {
     "name": "stderr",
     "output_type": "stream",
     "text": [
      "C:\\Users\\dell\\anaconda3\\lib\\site-packages\\statsmodels\\tsa\\arima_model.py:472: FutureWarning: \n",
      "statsmodels.tsa.arima_model.ARMA and statsmodels.tsa.arima_model.ARIMA have\n",
      "been deprecated in favor of statsmodels.tsa.arima.model.ARIMA (note the .\n",
      "between arima and model) and\n",
      "statsmodels.tsa.SARIMAX. These will be removed after the 0.12 release.\n",
      "\n",
      "statsmodels.tsa.arima.model.ARIMA makes use of the statespace framework and\n",
      "is both well tested and maintained.\n",
      "\n",
      "To silence this warning and continue using ARMA and ARIMA until they are\n",
      "removed, use:\n",
      "\n",
      "import warnings\n",
      "warnings.filterwarnings('ignore', 'statsmodels.tsa.arima_model.ARMA',\n",
      "                        FutureWarning)\n",
      "warnings.filterwarnings('ignore', 'statsmodels.tsa.arima_model.ARIMA',\n",
      "                        FutureWarning)\n",
      "\n",
      "  warnings.warn(ARIMA_DEPRECATION_WARN, FutureWarning)\n"
     ]
    },
    {
     "name": "stdout",
     "output_type": "stream",
     "text": [
      "predicted=3135.588176, expected=3243.859993\n",
      "predicted=3188.848967, expected=3056.000000\n",
      "predicted=3734.223736, expected=3899.000000\n",
      "predicted=3782.620076, expected=3629.000000\n",
      "predicted=3355.124755, expected=3373.000000\n",
      "predicted=3297.218859, expected=3352.000000\n",
      "predicted=4112.815247, expected=4342.000000\n",
      "predicted=3961.043652, expected=4461.000000\n",
      "predicted=4130.787032, expected=4017.000000\n",
      "predicted=3912.794314, expected=3854.000000\n",
      "predicted=4687.043790, expected=4936.000000\n",
      "predicted=4970.516543, expected=4895.000000\n",
      "predicted=4384.039218, expected=4333.000000\n",
      "predicted=4207.687346, expected=4194.000000\n",
      "predicted=5261.673378, expected=5253.000000\n"
     ]
    },
    {
     "name": "stderr",
     "output_type": "stream",
     "text": [
      "C:\\Users\\dell\\anaconda3\\lib\\site-packages\\statsmodels\\base\\model.py:547: HessianInversionWarning: Inverting hessian failed, no bse or cov_params available\n",
      "  warnings.warn('Inverting hessian failed, no bse or cov_params '\n",
      "C:\\Users\\dell\\anaconda3\\lib\\site-packages\\statsmodels\\base\\model.py:566: ConvergenceWarning: Maximum Likelihood optimization failed to converge. Check mle_retvals\n",
      "  warnings.warn(\"Maximum Likelihood optimization failed to \"\n"
     ]
    }
   ],
   "source": [
    "for t in range(len(test)):\n",
    "    model = ARIMA(history, order=(5,1,0))\n",
    "    model_fit = model.fit(disp=0)\n",
    "    output = model_fit.forecast()\n",
    "    yhat = output[0]\n",
    "    predictions.append(yhat)\n",
    "    obs = test[t]\n",
    "    history.append(obs)\n",
    "    print('predicted=%f, expected=%f' % (yhat, obs))"
   ]
  },
  {
   "cell_type": "code",
   "execution_count": 41,
   "id": "1a8e8d6b",
   "metadata": {
    "ExecuteTime": {
     "end_time": "2021-10-06T13:35:40.648303Z",
     "start_time": "2021-10-06T13:35:37.145920Z"
    }
   },
   "outputs": [
    {
     "name": "stdout",
     "output_type": "stream",
     "text": [
      "Test MSE: 31525.217\n"
     ]
    }
   ],
   "source": [
    "from sklearn.metrics import mean_squared_error\n",
    "error = mean_squared_error(test, predictions)\n",
    "print('Test MSE: %.3f' % error)"
   ]
  },
  {
   "cell_type": "code",
   "execution_count": 42,
   "id": "170c48ce",
   "metadata": {
    "ExecuteTime": {
     "end_time": "2021-10-06T13:35:48.590543Z",
     "start_time": "2021-10-06T13:35:48.315375Z"
    }
   },
   "outputs": [
    {
     "data": {
      "image/png": "[encoded data removed]",
      "text/plain": [
       "<Figure size 432x288 with 1 Axes>"
      ]
     },
     "metadata": {
      "needs_background": "light"
     },
     "output_type": "display_data"
    }
   ],
   "source": [
    "pyplot.plot(test)\n",
    "pyplot.plot(predictions, color='red')\n",
    "pyplot.show()"
   ]
  },
  {
   "cell_type": "code",
   "execution_count": null,
   "id": "e0e5520a",
   "metadata": {},
   "outputs": [],
   "source": [
    "#A line plot is created with the expected values in blue compared to the rolling forecast predictions in red. \n",
    "#We can see the values show some trend and are in the correct scale"
   ]
  },
  {
   "cell_type": "code",
   "execution_count": null,
   "id": "d4d60c0b",
   "metadata": {},
   "outputs": [],
   "source": [
    "#Comparing Multiple Models"
   ]
  },
  {
   "cell_type": "code",
   "execution_count": 43,
   "id": "8366785f",
   "metadata": {
    "ExecuteTime": {
     "end_time": "2021-10-06T13:36:56.722371Z",
     "start_time": "2021-10-06T13:36:56.674377Z"
    }
   },
   "outputs": [],
   "source": [
    "df2 = pd.get_dummies(df, columns = ['Quarter'])"
   ]
  },
  {
   "cell_type": "code",
   "execution_count": 44,
   "id": "3916b469",
   "metadata": {
    "ExecuteTime": {
     "end_time": "2021-10-06T13:37:05.302000Z",
     "start_time": "2021-10-06T13:37:05.294000Z"
    }
   },
   "outputs": [],
   "source": [
    "df2.columns = ['Sales','Q1','Q1','Q1','Q1','Q1','Q1','Q1','Q1','Q1','Q1','Q1','Q2','Q2','Q2','Q2','Q2','Q2','Q2','Q2','Q2','Q2','Q2','Q3','Q3','Q3','Q3','Q3','Q3','Q3','Q3','Q3','Q3','Q4','Q4','Q4','Q4','Q4','Q4','Q4','Q4','Q4','Q4']"
   ]
  },
  {
   "cell_type": "code",
   "execution_count": 45,
   "id": "d481adb2",
   "metadata": {
    "ExecuteTime": {
     "end_time": "2021-10-06T13:37:15.601579Z",
     "start_time": "2021-10-06T13:37:15.553567Z"
    }
   },
   "outputs": [
    {
     "data": {
      "text/html": [
       "<div>\n",
       "<style scoped>\n",
       "    .dataframe tbody tr th:only-of-type {\n",
       "        vertical-align: middle;\n",
       "    }\n",
       "\n",
       "    .dataframe tbody tr th {\n",
       "        vertical-align: top;\n",
       "    }\n",
       "\n",
       "    .dataframe thead th {\n",
       "        text-align: right;\n",
       "    }\n",
       "</style>\n",
       "<table border=\"1\" class=\"dataframe\">\n",
       "  <thead>\n",
       "    <tr style=\"text-align: right;\">\n",
       "      <th></th>\n",
       "      <th>Sales</th>\n",
       "      <th>Q1</th>\n",
       "      <th>Q1</th>\n",
       "      <th>Q1</th>\n",
       "      <th>Q1</th>\n",
       "      <th>Q1</th>\n",
       "      <th>Q1</th>\n",
       "      <th>Q1</th>\n",
       "      <th>Q1</th>\n",
       "      <th>Q1</th>\n",
       "      <th>...</th>\n",
       "      <th>Q4</th>\n",
       "      <th>Q4</th>\n",
       "      <th>Q4</th>\n",
       "      <th>Q4</th>\n",
       "      <th>Q4</th>\n",
       "      <th>Q4</th>\n",
       "      <th>Q4</th>\n",
       "      <th>Q4</th>\n",
       "      <th>Q4</th>\n",
       "      <th>Q4</th>\n",
       "    </tr>\n",
       "  </thead>\n",
       "  <tbody>\n",
       "    <tr>\n",
       "      <th>0</th>\n",
       "      <td>1734.827000</td>\n",
       "      <td>1</td>\n",
       "      <td>0</td>\n",
       "      <td>0</td>\n",
       "      <td>0</td>\n",
       "      <td>0</td>\n",
       "      <td>0</td>\n",
       "      <td>0</td>\n",
       "      <td>0</td>\n",
       "      <td>0</td>\n",
       "      <td>...</td>\n",
       "      <td>0</td>\n",
       "      <td>0</td>\n",
       "      <td>0</td>\n",
       "      <td>0</td>\n",
       "      <td>0</td>\n",
       "      <td>0</td>\n",
       "      <td>0</td>\n",
       "      <td>0</td>\n",
       "      <td>0</td>\n",
       "      <td>0</td>\n",
       "    </tr>\n",
       "    <tr>\n",
       "      <th>1</th>\n",
       "      <td>2244.960999</td>\n",
       "      <td>0</td>\n",
       "      <td>0</td>\n",
       "      <td>0</td>\n",
       "      <td>0</td>\n",
       "      <td>0</td>\n",
       "      <td>0</td>\n",
       "      <td>0</td>\n",
       "      <td>0</td>\n",
       "      <td>0</td>\n",
       "      <td>...</td>\n",
       "      <td>0</td>\n",
       "      <td>0</td>\n",
       "      <td>0</td>\n",
       "      <td>0</td>\n",
       "      <td>0</td>\n",
       "      <td>0</td>\n",
       "      <td>0</td>\n",
       "      <td>0</td>\n",
       "      <td>0</td>\n",
       "      <td>0</td>\n",
       "    </tr>\n",
       "    <tr>\n",
       "      <th>2</th>\n",
       "      <td>2533.804993</td>\n",
       "      <td>0</td>\n",
       "      <td>0</td>\n",
       "      <td>0</td>\n",
       "      <td>0</td>\n",
       "      <td>0</td>\n",
       "      <td>0</td>\n",
       "      <td>0</td>\n",
       "      <td>0</td>\n",
       "      <td>0</td>\n",
       "      <td>...</td>\n",
       "      <td>0</td>\n",
       "      <td>0</td>\n",
       "      <td>0</td>\n",
       "      <td>0</td>\n",
       "      <td>0</td>\n",
       "      <td>0</td>\n",
       "      <td>0</td>\n",
       "      <td>0</td>\n",
       "      <td>0</td>\n",
       "      <td>0</td>\n",
       "    </tr>\n",
       "    <tr>\n",
       "      <th>3</th>\n",
       "      <td>2154.962997</td>\n",
       "      <td>0</td>\n",
       "      <td>0</td>\n",
       "      <td>0</td>\n",
       "      <td>0</td>\n",
       "      <td>0</td>\n",
       "      <td>0</td>\n",
       "      <td>0</td>\n",
       "      <td>0</td>\n",
       "      <td>0</td>\n",
       "      <td>...</td>\n",
       "      <td>1</td>\n",
       "      <td>0</td>\n",
       "      <td>0</td>\n",
       "      <td>0</td>\n",
       "      <td>0</td>\n",
       "      <td>0</td>\n",
       "      <td>0</td>\n",
       "      <td>0</td>\n",
       "      <td>0</td>\n",
       "      <td>0</td>\n",
       "    </tr>\n",
       "    <tr>\n",
       "      <th>4</th>\n",
       "      <td>1547.818996</td>\n",
       "      <td>0</td>\n",
       "      <td>1</td>\n",
       "      <td>0</td>\n",
       "      <td>0</td>\n",
       "      <td>0</td>\n",
       "      <td>0</td>\n",
       "      <td>0</td>\n",
       "      <td>0</td>\n",
       "      <td>0</td>\n",
       "      <td>...</td>\n",
       "      <td>0</td>\n",
       "      <td>0</td>\n",
       "      <td>0</td>\n",
       "      <td>0</td>\n",
       "      <td>0</td>\n",
       "      <td>0</td>\n",
       "      <td>0</td>\n",
       "      <td>0</td>\n",
       "      <td>0</td>\n",
       "      <td>0</td>\n",
       "    </tr>\n",
       "  </tbody>\n",
       "</table>\n",
       "<p>5 rows × 43 columns</p>\n",
       "</div>"
      ],
      "text/plain": [
       "         Sales  Q1  Q1  Q1  Q1  Q1  Q1  Q1  Q1  Q1  ...  Q4  Q4  Q4  Q4  Q4  \\\n",
       "0  1734.827000   1   0   0   0   0   0   0   0   0  ...   0   0   0   0   0   \n",
       "1  2244.960999   0   0   0   0   0   0   0   0   0  ...   0   0   0   0   0   \n",
       "2  2533.804993   0   0   0   0   0   0   0   0   0  ...   0   0   0   0   0   \n",
       "3  2154.962997   0   0   0   0   0   0   0   0   0  ...   1   0   0   0   0   \n",
       "4  1547.818996   0   1   0   0   0   0   0   0   0  ...   0   0   0   0   0   \n",
       "\n",
       "   Q4  Q4  Q4  Q4  Q4  \n",
       "0   0   0   0   0   0  \n",
       "1   0   0   0   0   0  \n",
       "2   0   0   0   0   0  \n",
       "3   0   0   0   0   0  \n",
       "4   0   0   0   0   0  \n",
       "\n",
       "[5 rows x 43 columns]"
      ]
     },
     "execution_count": 45,
     "metadata": {},
     "output_type": "execute_result"
    }
   ],
   "source": [
    "df2.head()"
   ]
  },
  {
   "cell_type": "code",
   "execution_count": 46,
   "id": "7ba09e1d",
   "metadata": {
    "ExecuteTime": {
     "end_time": "2021-10-06T13:37:33.066755Z",
     "start_time": "2021-10-06T13:37:33.042736Z"
    }
   },
   "outputs": [],
   "source": [
    "t= np.arange(1,43)"
   ]
  },
  {
   "cell_type": "code",
   "execution_count": 47,
   "id": "4c970a7a",
   "metadata": {
    "ExecuteTime": {
     "end_time": "2021-10-06T13:37:40.980074Z",
     "start_time": "2021-10-06T13:37:40.940057Z"
    }
   },
   "outputs": [],
   "source": [
    "df2['t'] = t"
   ]
  },
  {
   "cell_type": "code",
   "execution_count": 48,
   "id": "d8c2d51e",
   "metadata": {
    "ExecuteTime": {
     "end_time": "2021-10-06T13:37:48.338743Z",
     "start_time": "2021-10-06T13:37:48.019125Z"
    }
   },
   "outputs": [],
   "source": [
    "df2['t_sq'] = df2['t']*df2['t']"
   ]
  },
  {
   "cell_type": "code",
   "execution_count": 49,
   "id": "1ba6ed4a",
   "metadata": {
    "ExecuteTime": {
     "end_time": "2021-10-06T13:37:57.001279Z",
     "start_time": "2021-10-06T13:37:56.985257Z"
    }
   },
   "outputs": [],
   "source": [
    "log_Sales=np.log(df2['Sales'])"
   ]
  },
  {
   "cell_type": "code",
   "execution_count": 50,
   "id": "5765355b",
   "metadata": {
    "ExecuteTime": {
     "end_time": "2021-10-06T13:38:07.377570Z",
     "start_time": "2021-10-06T13:38:07.369570Z"
    }
   },
   "outputs": [],
   "source": [
    "df2['log_Sales']=log_Sales"
   ]
  },
  {
   "cell_type": "code",
   "execution_count": 51,
   "id": "4280ba05",
   "metadata": {
    "ExecuteTime": {
     "end_time": "2021-10-06T13:38:16.857879Z",
     "start_time": "2021-10-06T13:38:16.817877Z"
    }
   },
   "outputs": [
    {
     "data": {
      "text/html": [
       "<div>\n",
       "<style scoped>\n",
       "    .dataframe tbody tr th:only-of-type {\n",
       "        vertical-align: middle;\n",
       "    }\n",
       "\n",
       "    .dataframe tbody tr th {\n",
       "        vertical-align: top;\n",
       "    }\n",
       "\n",
       "    .dataframe thead th {\n",
       "        text-align: right;\n",
       "    }\n",
       "</style>\n",
       "<table border=\"1\" class=\"dataframe\">\n",
       "  <thead>\n",
       "    <tr style=\"text-align: right;\">\n",
       "      <th></th>\n",
       "      <th>Sales</th>\n",
       "      <th>Q1</th>\n",
       "      <th>Q1</th>\n",
       "      <th>Q1</th>\n",
       "      <th>Q1</th>\n",
       "      <th>Q1</th>\n",
       "      <th>Q1</th>\n",
       "      <th>Q1</th>\n",
       "      <th>Q1</th>\n",
       "      <th>Q1</th>\n",
       "      <th>...</th>\n",
       "      <th>Q4</th>\n",
       "      <th>Q4</th>\n",
       "      <th>Q4</th>\n",
       "      <th>Q4</th>\n",
       "      <th>Q4</th>\n",
       "      <th>Q4</th>\n",
       "      <th>Q4</th>\n",
       "      <th>t</th>\n",
       "      <th>t_sq</th>\n",
       "      <th>log_Sales</th>\n",
       "    </tr>\n",
       "  </thead>\n",
       "  <tbody>\n",
       "    <tr>\n",
       "      <th>0</th>\n",
       "      <td>1734.827000</td>\n",
       "      <td>1</td>\n",
       "      <td>0</td>\n",
       "      <td>0</td>\n",
       "      <td>0</td>\n",
       "      <td>0</td>\n",
       "      <td>0</td>\n",
       "      <td>0</td>\n",
       "      <td>0</td>\n",
       "      <td>0</td>\n",
       "      <td>...</td>\n",
       "      <td>0</td>\n",
       "      <td>0</td>\n",
       "      <td>0</td>\n",
       "      <td>0</td>\n",
       "      <td>0</td>\n",
       "      <td>0</td>\n",
       "      <td>0</td>\n",
       "      <td>1</td>\n",
       "      <td>1</td>\n",
       "      <td>7.458663</td>\n",
       "    </tr>\n",
       "    <tr>\n",
       "      <th>1</th>\n",
       "      <td>2244.960999</td>\n",
       "      <td>0</td>\n",
       "      <td>0</td>\n",
       "      <td>0</td>\n",
       "      <td>0</td>\n",
       "      <td>0</td>\n",
       "      <td>0</td>\n",
       "      <td>0</td>\n",
       "      <td>0</td>\n",
       "      <td>0</td>\n",
       "      <td>...</td>\n",
       "      <td>0</td>\n",
       "      <td>0</td>\n",
       "      <td>0</td>\n",
       "      <td>0</td>\n",
       "      <td>0</td>\n",
       "      <td>0</td>\n",
       "      <td>0</td>\n",
       "      <td>2</td>\n",
       "      <td>4</td>\n",
       "      <td>7.716443</td>\n",
       "    </tr>\n",
       "    <tr>\n",
       "      <th>2</th>\n",
       "      <td>2533.804993</td>\n",
       "      <td>0</td>\n",
       "      <td>0</td>\n",
       "      <td>0</td>\n",
       "      <td>0</td>\n",
       "      <td>0</td>\n",
       "      <td>0</td>\n",
       "      <td>0</td>\n",
       "      <td>0</td>\n",
       "      <td>0</td>\n",
       "      <td>...</td>\n",
       "      <td>0</td>\n",
       "      <td>0</td>\n",
       "      <td>0</td>\n",
       "      <td>0</td>\n",
       "      <td>0</td>\n",
       "      <td>0</td>\n",
       "      <td>0</td>\n",
       "      <td>3</td>\n",
       "      <td>9</td>\n",
       "      <td>7.837477</td>\n",
       "    </tr>\n",
       "    <tr>\n",
       "      <th>3</th>\n",
       "      <td>2154.962997</td>\n",
       "      <td>0</td>\n",
       "      <td>0</td>\n",
       "      <td>0</td>\n",
       "      <td>0</td>\n",
       "      <td>0</td>\n",
       "      <td>0</td>\n",
       "      <td>0</td>\n",
       "      <td>0</td>\n",
       "      <td>0</td>\n",
       "      <td>...</td>\n",
       "      <td>0</td>\n",
       "      <td>0</td>\n",
       "      <td>0</td>\n",
       "      <td>0</td>\n",
       "      <td>0</td>\n",
       "      <td>0</td>\n",
       "      <td>0</td>\n",
       "      <td>4</td>\n",
       "      <td>16</td>\n",
       "      <td>7.675529</td>\n",
       "    </tr>\n",
       "    <tr>\n",
       "      <th>4</th>\n",
       "      <td>1547.818996</td>\n",
       "      <td>0</td>\n",
       "      <td>1</td>\n",
       "      <td>0</td>\n",
       "      <td>0</td>\n",
       "      <td>0</td>\n",
       "      <td>0</td>\n",
       "      <td>0</td>\n",
       "      <td>0</td>\n",
       "      <td>0</td>\n",
       "      <td>...</td>\n",
       "      <td>0</td>\n",
       "      <td>0</td>\n",
       "      <td>0</td>\n",
       "      <td>0</td>\n",
       "      <td>0</td>\n",
       "      <td>0</td>\n",
       "      <td>0</td>\n",
       "      <td>5</td>\n",
       "      <td>25</td>\n",
       "      <td>7.344602</td>\n",
       "    </tr>\n",
       "  </tbody>\n",
       "</table>\n",
       "<p>5 rows × 46 columns</p>\n",
       "</div>"
      ],
      "text/plain": [
       "         Sales  Q1  Q1  Q1  Q1  Q1  Q1  Q1  Q1  Q1  ...  Q4  Q4  Q4  Q4  Q4  \\\n",
       "0  1734.827000   1   0   0   0   0   0   0   0   0  ...   0   0   0   0   0   \n",
       "1  2244.960999   0   0   0   0   0   0   0   0   0  ...   0   0   0   0   0   \n",
       "2  2533.804993   0   0   0   0   0   0   0   0   0  ...   0   0   0   0   0   \n",
       "3  2154.962997   0   0   0   0   0   0   0   0   0  ...   0   0   0   0   0   \n",
       "4  1547.818996   0   1   0   0   0   0   0   0   0  ...   0   0   0   0   0   \n",
       "\n",
       "   Q4  Q4  t  t_sq  log_Sales  \n",
       "0   0   0  1     1   7.458663  \n",
       "1   0   0  2     4   7.716443  \n",
       "2   0   0  3     9   7.837477  \n",
       "3   0   0  4    16   7.675529  \n",
       "4   0   0  5    25   7.344602  \n",
       "\n",
       "[5 rows x 46 columns]"
      ]
     },
     "execution_count": 51,
     "metadata": {},
     "output_type": "execute_result"
    }
   ],
   "source": [
    "df2.head()"
   ]
  },
  {
   "cell_type": "code",
   "execution_count": 52,
   "id": "0a7cc247",
   "metadata": {
    "ExecuteTime": {
     "end_time": "2021-10-06T13:38:27.887049Z",
     "start_time": "2021-10-06T13:38:27.871027Z"
    }
   },
   "outputs": [],
   "source": [
    "train1, test1 = np.split(df2, [int(.67 *len(df2))])"
   ]
  },
  {
   "cell_type": "code",
   "execution_count": 54,
   "id": "d970d3b2",
   "metadata": {
    "ExecuteTime": {
     "end_time": "2021-10-06T13:38:58.347571Z",
     "start_time": "2021-10-06T13:38:57.485575Z"
    }
   },
   "outputs": [
    {
     "data": {
      "text/plain": [
       "580.1224130918632"
      ]
     },
     "execution_count": 54,
     "metadata": {},
     "output_type": "execute_result"
    }
   ],
   "source": [
    "import statsmodels.formula.api as smf\n",
    "linear= smf.ols('Sales ~ t',data=train1).fit()\n",
    "predlin=pd.Series(linear.predict(pd.DataFrame(test1['t'])))\n",
    "rmselin=np.sqrt((np.mean(np.array(test1['Sales'])-np.array(predlin))**2))\n",
    "rmselin"
   ]
  },
  {
   "cell_type": "code",
   "execution_count": 55,
   "id": "52c2878c",
   "metadata": {
    "ExecuteTime": {
     "end_time": "2021-10-06T13:39:08.790082Z",
     "start_time": "2021-10-06T13:39:08.710084Z"
    }
   },
   "outputs": [
    {
     "data": {
      "text/plain": [
       "783.729797503746"
      ]
     },
     "execution_count": 55,
     "metadata": {},
     "output_type": "execute_result"
    }
   ],
   "source": [
    "quad=smf.ols('Sales~t+t_sq',data=train1).fit()\n",
    "predquad=pd.Series(quad.predict(pd.DataFrame(test1[['t','t_sq']])))\n",
    "rmsequad=np.sqrt(np.mean((np.array(test1['Sales'])-np.array(predquad))**2))\n",
    "rmsequad"
   ]
  },
  {
   "cell_type": "code",
   "execution_count": 56,
   "id": "804db080",
   "metadata": {
    "ExecuteTime": {
     "end_time": "2021-10-06T13:39:19.909823Z",
     "start_time": "2021-10-06T13:39:19.869824Z"
    }
   },
   "outputs": [
    {
     "data": {
      "text/plain": [
       "588.1405104900199"
      ]
     },
     "execution_count": 56,
     "metadata": {},
     "output_type": "execute_result"
    }
   ],
   "source": [
    "expo=smf.ols('log_Sales~t',data=train1).fit()\n",
    "predexp=pd.Series(expo.predict(pd.DataFrame(test1['t'])))\n",
    "rmseexpo=np.sqrt(np.mean((np.array(test1['Sales'])-np.array(np.exp(predexp)))**2))\n",
    "rmseexpo"
   ]
  },
  {
   "cell_type": "code",
   "execution_count": 57,
   "id": "bbcdc717",
   "metadata": {
    "ExecuteTime": {
     "end_time": "2021-10-06T13:39:29.022673Z",
     "start_time": "2021-10-06T13:39:28.856882Z"
    }
   },
   "outputs": [
    {
     "data": {
      "text/plain": [
       "1869.7188209186938"
      ]
     },
     "execution_count": 57,
     "metadata": {},
     "output_type": "execute_result"
    }
   ],
   "source": [
    "additive= smf.ols('Sales~ Q1+Q2+Q3+Q4',data=train1).fit()\n",
    "predadd=pd.Series(additive.predict(pd.DataFrame(test1[['Q1','Q2','Q3','Q4']])))\n",
    "rmseadd=np.sqrt(np.mean((np.array(test1['Sales'])-np.array(predadd))**2))\n",
    "rmseadd"
   ]
  },
  {
   "cell_type": "code",
   "execution_count": 58,
   "id": "a9cdb842",
   "metadata": {
    "ExecuteTime": {
     "end_time": "2021-10-06T13:39:39.645045Z",
     "start_time": "2021-10-06T13:39:39.573030Z"
    }
   },
   "outputs": [
    {
     "data": {
      "text/plain": [
       "596.1526282372296"
      ]
     },
     "execution_count": 58,
     "metadata": {},
     "output_type": "execute_result"
    }
   ],
   "source": [
    "addlinear= smf.ols('Sales~t+Q1+Q2+Q3+Q4',data=train1).fit()\n",
    "predaddlinear=pd.Series(addlinear.predict(pd.DataFrame(test1[['t','Q1','Q2','Q3','Q4']])))\n",
    "rmseaddlinear=np.sqrt(np.mean((np.array(test1['Sales'])-np.array(predaddlinear))**2))\n",
    "rmseaddlinear"
   ]
  },
  {
   "cell_type": "code",
   "execution_count": 59,
   "id": "4d3b45f3",
   "metadata": {
    "ExecuteTime": {
     "end_time": "2021-10-06T13:39:53.633704Z",
     "start_time": "2021-10-06T13:39:53.545693Z"
    }
   },
   "outputs": [
    {
     "data": {
      "text/plain": [
       "412.1144436052219"
      ]
     },
     "execution_count": 59,
     "metadata": {},
     "output_type": "execute_result"
    }
   ],
   "source": [
    "addquad=smf.ols('Sales~t+t_sq+Q1+Q2+Q3+Q4',data=train1).fit()\n",
    "predaddquad=pd.Series(addquad.predict(pd.DataFrame(test1[['t','t_sq','Q1','Q2','Q3','Q4']])))\n",
    "rmseaddquad=np.sqrt(np.mean((np.array(test1['Sales'])-np.array(predaddquad))**2))\n",
    "rmseaddquad"
   ]
  },
  {
   "cell_type": "code",
   "execution_count": 60,
   "id": "dd56d8f3",
   "metadata": {
    "ExecuteTime": {
     "end_time": "2021-10-06T13:40:05.459262Z",
     "start_time": "2021-10-06T13:40:05.379267Z"
    }
   },
   "outputs": [
    {
     "data": {
      "text/plain": [
       "2374.919440795433"
      ]
     },
     "execution_count": 60,
     "metadata": {},
     "output_type": "execute_result"
    }
   ],
   "source": [
    "mulsea=smf.ols('log_Sales~Q1+Q2+Q3+Q4',data=train1).fit()\n",
    "predmul= pd.Series(mulsea.predict(pd.DataFrame(test1[['Q1','Q2','Q3','Q4']])))\n",
    "rmsemul= np.sqrt(np.mean((np.array(test1['Sales'])-np.array(np.exp(predmul)))**2))\n",
    "rmsemul"
   ]
  },
  {
   "cell_type": "code",
   "execution_count": 61,
   "id": "c4fd6d9d",
   "metadata": {
    "ExecuteTime": {
     "end_time": "2021-10-06T13:40:16.360581Z",
     "start_time": "2021-10-06T13:40:16.272569Z"
    }
   },
   "outputs": [
    {
     "data": {
      "text/plain": [
       "5359.6879119332425"
      ]
     },
     "execution_count": 61,
     "metadata": {},
     "output_type": "execute_result"
    }
   ],
   "source": [
    "mullin= smf.ols('log_Sales~t+Q1+Q2+Q3+Q4',data=train1).fit()\n",
    "predmullin= pd.Series(mullin.predict(pd.DataFrame(test1[['t','Q1','Q2','Q3','Q4']])))\n",
    "rmsemulin=np.sqrt(np.mean((np.array(test1['Sales'])-np.array(np.exp(predmullin)))**2))\n",
    "rmsemulin"
   ]
  },
  {
   "cell_type": "code",
   "execution_count": 62,
   "id": "c0fda55c",
   "metadata": {
    "ExecuteTime": {
     "end_time": "2021-10-06T13:40:25.531657Z",
     "start_time": "2021-10-06T13:40:25.443663Z"
    }
   },
   "outputs": [
    {
     "data": {
      "text/plain": [
       "3630.5619467339266"
      ]
     },
     "execution_count": 62,
     "metadata": {},
     "output_type": "execute_result"
    }
   ],
   "source": [
    "mul_quad= smf.ols('log_Sales~t+t_sq+Q1+Q2+Q3+Q4',data=train1).fit()\n",
    "pred_mul_quad= pd.Series(mul_quad.predict(test1[['t','t_sq','Q1','Q2','Q3','Q4']]))\n",
    "rmse_mul_quad=np.sqrt(np.mean((np.array(test1['Sales'])-np.array(np.exp(pred_mul_quad)))**2))\n",
    "rmse_mul_quad"
   ]
  },
  {
   "cell_type": "code",
   "execution_count": 63,
   "id": "bd96686b",
   "metadata": {
    "ExecuteTime": {
     "end_time": "2021-10-06T13:41:04.142464Z",
     "start_time": "2021-10-06T13:41:04.126232Z"
    }
   },
   "outputs": [],
   "source": [
    "#Additive seasonality with quadratic trend has the best RMSE value"
   ]
  },
  {
   "cell_type": "code",
   "execution_count": null,
   "id": "02ee8ad0",
   "metadata": {},
   "outputs": [],
   "source": []
  },
  {
   "cell_type": "code",
   "execution_count": null,
   "id": "8c506986",
   "metadata": {},
   "outputs": [],
   "source": []
  }
 ],
 "metadata": {
  "kernelspec": {
   "display_name": "Python 3 (ipykernel)",
   "language": "python",
   "name": "python3"
  },
  "language_info": {
   "codemirror_mode": {
    "name": "ipython",
    "version": 3
   },
   "file_extension": ".py",
   "mimetype": "text/x-python",
   "name": "python",
   "nbconvert_exporter": "python",
   "pygments_lexer": "ipython3",
   "version": "3.8.8"
  },
  "toc": {
   "base_numbering": 1,
   "nav_menu": {},
   "number_sections": true,
   "sideBar": true,
   "skip_h1_title": false,
   "title_cell": "Table of Contents",
   "title_sidebar": "Contents",
   "toc_cell": false,
   "toc_position": {},
   "toc_section_display": true,
   "toc_window_display": false
  },
  "varInspector": {
   "cols": {
    "lenName": 16,
    "lenType": 16,
    "lenVar": 40
   },
   "kernels_config": {
    "python": {
     "delete_cmd_postfix": "",
     "delete_cmd_prefix": "del ",
     "library": "var_list.py",
     "varRefreshCmd": "print(var_dic_list())"
    },
    "r": {
     "delete_cmd_postfix": ") ",
     "delete_cmd_prefix": "rm(",
     "library": "var_list.r",
     "varRefreshCmd": "cat(var_dic_list()) "
    }
   },
   "types_to_exclude": [
    "module",
    "function",
    "builtin_function_or_method",
    "instance",
    "_Feature"
   ],
   "window_display": false
  }
 },
 "nbformat": 4,
 "nbformat_minor": 5
}
